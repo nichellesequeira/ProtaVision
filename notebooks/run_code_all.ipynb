{
 "cells": [
  {
   "cell_type": "markdown",
   "id": "8311386a-4c43-4ef3-974a-91e25ace93db",
   "metadata": {},
   "source": [
    "## Launch all pieces of code at once\n",
    "\n",
    "Here, by using the main function containing the whole code of our project, and by putting the name of protein for the inputs, the whole code comes out. The main function is contained in the src/protavision path."
   ]
  },
  {
   "cell_type": "code",
   "execution_count": null,
   "id": "f4827d0c-6c21-42a8-b6a9-148af6dbcb57",
   "metadata": {},
   "outputs": [],
   "source": [
    "\n",
    "\n",
    "from protavision.function_main import main\n",
    "\n",
    "main()"
   ]
  },
  {
   "cell_type": "code",
   "execution_count": null,
   "id": "b8c13d1b-6c58-4c04-bdab-d49632cbb227",
   "metadata": {},
   "outputs": [],
   "source": [
    "import protavision"
   ]
  }
 ],
 "metadata": {
  "kernelspec": {
   "display_name": "Python 3 (ipykernel)",
   "language": "python",
   "name": "python3"
  },
  "language_info": {
   "codemirror_mode": {
    "name": "ipython",
    "version": 3
   },
   "file_extension": ".py",
   "mimetype": "text/x-python",
   "name": "python",
   "nbconvert_exporter": "python",
   "pygments_lexer": "ipython3",
   "version": "3.10.14"
  }
 },
 "nbformat": 4,
 "nbformat_minor": 5
}
