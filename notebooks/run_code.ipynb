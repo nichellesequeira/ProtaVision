{
 "cells": [
  {
   "cell_type": "markdown",
   "id": "6f52cc5c-2ae6-4b56-8676-b66ca66383ef",
   "metadata": {},
   "source": [
    "## Launch all pieces of code at once\n",
    "\n",
    "Here, by using the main function containing the whole code of our project, and by putting the name of protein for the inputs, the whole code comes out. The main function is contained in the src/protavision path.\n"
   ]
  },
  {
   "cell_type": "code",
   "execution_count": null,
   "id": "49c10a67-1596-42a8-b58f-c0b8499cc84d",
   "metadata": {},
   "outputs": [],
   "source": [
    "from Bio.SeqUtils.ProtParam import ProteinAnalysis\n",
    "import matplotlib.pyplot as plt"
   ]
  },
  {
   "cell_type": "code",
   "execution_count": null,
   "id": "d8dba0cb-54e6-41ce-ba95-c7e5f8ee528f",
   "metadata": {},
   "outputs": [],
   "source": [
    "from protavision.function_main import main\n",
    "\n",
    "main()\n"
   ]
  }
 ],
 "metadata": {
  "kernelspec": {
   "display_name": "Python 3 (ipykernel)",
   "language": "python",
   "name": "python3"
  },
  "language_info": {
   "codemirror_mode": {
    "name": "ipython",
    "version": 3
   },
   "file_extension": ".py",
   "mimetype": "text/x-python",
   "name": "python",
   "nbconvert_exporter": "python",
   "pygments_lexer": "ipython3",
   "version": "3.10.14"
  }
 },
 "nbformat": 4,
 "nbformat_minor": 5
}
