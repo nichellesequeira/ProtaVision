{
 "cells": [
  {
   "cell_type": "markdown",
   "id": "e7fd421d-6b4e-4156-aca3-8ed76e343043",
   "metadata": {},
   "source": [
    "# Welcome to ProtaVision: Delving into Protein Structures and Functions🧬🔬🧪🧫🦠\n",
    "---\n",
    "Welcome to this interactive Jupyter Notebook! 🎉\n",
    "\n",
    "**About This Notebook:**\n",
    "This notebook is dedicated to facilitating sequence alignment, a fundamental principle in bioinformatics. Using a custom package, you can input two proteins from a dictionary and efficiently determine the number of matching amino acids, as well as identify the indices of those that do not match. Whether you're delving into bioinformatics for the first time or seeking a streamlined tool for protein analysis, this notebook provides a comprehensive solution.\n",
    "\n",
    "**Getting Started:**\n",
    "To get started, simply navigate through the sections using the table of contents provided on the ReadMe. Each section is packed with explanations, code snippets, and visualizations to help you grasp concepts effectively. \n",
    "\n",
    "**How to Use:**\n",
    "Feel free to experiment with the code! Modify variables, tweak parameters, and run cells to see how different changes affect the outcomes. Don't hesitate to ask questions or seek clarification whenever needed.\n",
    "\n",
    "**Additional Resources:**\n",
    "If you're new to Jupyter Notebooks or need a refresher, check out the [Jupyter Notebook Documentation](https://jupyter-notebook.readthedocs.io/en/stable/) for comprehensive guidance.\n",
    "\n",
    "**Questions?**\n",
    "If you have any questions, please contact nichelle.sequeira@epfl.ch or aurelie.masson@epfl.ch\n",
    "\n",
    "**Let's Dive In!**\n",
    "Start exploring and discovering insights within this notebook. Happy coding! 🚀"
   ]
  },
  {
   "cell_type": "markdown",
   "id": "97b1c624-48c2-4a01-9ac3-1e127a322846",
   "metadata": {},
   "source": [
    "🔧 First, let's import everything! \n",
    "---\n",
    "Please run the following code. Here, we are going to import all dependencies and all the functions to ensure the code runs properly. If you go to functions python file, you can se that SeqIO and ExPASy are imported from the biopython package. **Bio.SeqIO** is a module from Biopython used for reading and writing sequence files in different formats, and **Bio.ExPASy**, a module that provides access to tools and databases hosted on the ExPASy server, including the Swiss-Prot database."
   ]
  },
  {
   "cell_type": "code",
   "execution_count": 1,
   "id": "dd6dafe5-0218-405a-9e74-ad7cc6e7867b",
   "metadata": {},
   "outputs": [
    {
     "name": "stderr",
     "output_type": "stream",
     "text": [
<<<<<<< HEAD
      "C:\\Users\\aurel\\miniconda3\\envs\\ProtaVision\\lib\\site-packages\\Bio\\pairwise2.py:278: BiopythonDeprecationWarning: Bio.pairwise2 has been deprecated, and we intend to remove it in a future release of Biopython. As an alternative, please consider using Bio.Align.PairwiseAligner as a replacement, and contact the Biopython developers if you still need the Bio.pairwise2 module.\n",
=======
      "C:\\Users\\Nichelle Sequeira\\.conda\\envs\\protavision\\lib\\site-packages\\Bio\\pairwise2.py:278: BiopythonDeprecationWarning: Bio.pairwise2 has been deprecated, and we intend to remove it in a future release of Biopython. As an alternative, please consider using Bio.Align.PairwiseAligner as a replacement, and contact the Biopython developers if you still need the Bio.pairwise2 module.\n",
>>>>>>> 948fbf94fad0bf81db8491aeb16fe0cc669c4a63
      "  warnings.warn(\n"
     ]
    }
   ],
   "source": [
    "import os\n",
    "import ast\n",
    "import pandas as pd\n",
    "import py3Dmol\n",
    "from Bio.SeqUtils.ProtParam import ProteinAnalysis\n",
    "from protavision.functions import get_protein_sequence, compare_sequences, proportion_amino_acid, count_conservative_substitutions, uniprot_to_pdb, calculate_alignment_details, calculate_number_of_gaps, count_matches_with_gap, count_amino_acids"
   ]
  },
  {
   "cell_type": "markdown",
   "id": "59926b16-ce15-4a66-9761-9e5757a5a0b6",
   "metadata": {},
   "source": [
    "🔥Let's Get Started! \n",
    "---\n",
    "Using the function, **get_protein_sequence(protein_name)**, users input the name **UniProt** of a protein  and fetch its sequence from the Swiss-Prot database using the Biopython library.\n",
    "\n",
    "Using a Python script designed to fetch the sequence of a protein from the **UniProt** database using its name (e.g., \"MYG_HUMAN\").  \n",
    "\n",
    "### Example Usage📚\n",
    "If you enter MYG_HUMAN as an input, you should get the following output:\n",
    "- This is the sequence of your first protein: MGLSDGEWQLVLNVWGKVEADIPGHGQEVLIRLFKGHPETLEKFDKFKHLKSEDEMKASEDLKKHGATVLTALGGILKKKGHHEAEIKPLAQSHATKHKIPVKYLEFISECIIQVLQSKHPGDFGADAQGAMNKALELFRKDMASNYKELGFQG\n"
   ]
  },
  {
   "cell_type": "code",
   "execution_count": 2,
   "id": "61abf9e8-e71c-41d7-9555-3081ce2fd907",
   "metadata": {},
   "outputs": [
    {
     "name": "stdin",
     "output_type": "stream",
     "text": [
      "Please enter the name of the first protein (example MYG_HUMAN):  MYG_HUMAN\n"
     ]
    },
    {
     "name": "stdout",
     "output_type": "stream",
     "text": [
      "This is the sequence of your first protein: MGLSDGEWQLVLNVWGKVEADIPGHGQEVLIRLFKGHPETLEKFDKFKHLKSEDEMKASEDLKKHGATVLTALGGILKKKGHHEAEIKPLAQSHATKHKIPVKYLEFISECIIQVLQSKHPGDFGADAQGAMNKALELFRKDMASNYKELGFQG\n"
     ]
    }
   ],
   "source": [
    "protein_name1 = input(\"Please enter the name of the first protein (example MYG_HUMAN): \") \n",
    "sequence1 = get_protein_sequence(protein_name1) \n",
    "print(f\"This is the sequence of your first protein: {sequence1}\")"
   ]
  },
  {
   "cell_type": "code",
   "execution_count": 3,
   "id": "d4e6e966-434b-4bae-ac0e-5dbb63a20998",
   "metadata": {},
   "outputs": [
    {
     "name": "stdin",
     "output_type": "stream",
     "text": [
      "Please enter the name of the second protein (example MYG_MOUSE):  MYG_MOUSE\n"
     ]
    },
    {
     "name": "stdout",
     "output_type": "stream",
     "text": [
      "This is the sequence of your second protein; MGLSDGEWQLVLNVWGKVEADLAGHGQEVLIGLFKTHPETLDKFDKFKNLKSEEDMKGSEDLKKHGCTVLTALGTILKKKGQHAAEIQPLAQSHATKHKIPVKYLEFISEIIIEVLKKRHSGDFGADAQGAMSKALELFRNDIAAKYKELGFQG\n"
     ]
    }
   ],
   "source": [
    "protein_name2 = input(\"Please enter the name of the second protein (example MYG_MOUSE): \")\n",
    "sequence2 = get_protein_sequence(protein_name2)\n",
    "print(f\"This is the sequence of your second protein; {sequence2}\")"
   ]
  },
  {
   "cell_type": "markdown",
   "id": "1d8f0ddc-8435-4798-b0bd-1a0c15df57f9",
   "metadata": {},
   "source": [
    "🚀Next Step: Let's find the differences between the two sequences!🧬\n",
    "---\n",
    "This code snippet compares two sequences (here sequence1 and sequence2) that were defined character by character to find their differences and displays the index, and the respective amino acids from each sequence at that index. This code can be used for comparing sequences, such as DNA or protein sequences, and identifying variations or mutations between them.\n",
    "\n",
    "### Expected output📚\n",
    "You should obtain an output giving:\n",
    "- The number of amino acids that don't match\n",
    "- The number of amino acids that do match\n",
    "- A table showing the index of the amino acids that don't match as well as the amino acids of both sequences\n"
   ]
  },
  {
   "cell_type": "code",
   "execution_count": 4,
   "id": "f9de6484-0770-4d6a-ba74-103a4c6cbb96",
   "metadata": {},
   "outputs": [
    {
     "name": "stdout",
     "output_type": "stream",
     "text": [
      "The total number of amino acids that don't match is: 25\n",
      "The total number of amino acids that match is: 129\n"
     ]
    },
    {
     "data": {
      "text/html": [
       "<div>\n",
       "<style scoped>\n",
       "    .dataframe tbody tr th:only-of-type {\n",
       "        vertical-align: middle;\n",
       "    }\n",
       "\n",
       "    .dataframe tbody tr th {\n",
       "        vertical-align: top;\n",
       "    }\n",
       "\n",
       "    .dataframe thead th {\n",
       "        text-align: right;\n",
       "    }\n",
       "</style>\n",
       "<table border=\"1\" class=\"dataframe\">\n",
       "  <thead>\n",
       "    <tr style=\"text-align: right;\">\n",
       "      <th></th>\n",
       "      <th>Index</th>\n",
       "      <th>Sequence 1</th>\n",
       "      <th>Sequence 2</th>\n",
       "    </tr>\n",
       "  </thead>\n",
       "  <tbody>\n",
       "    <tr>\n",
       "      <th>0</th>\n",
       "      <td>21</td>\n",
       "      <td>I</td>\n",
       "      <td>L</td>\n",
       "    </tr>\n",
       "    <tr>\n",
       "      <th>1</th>\n",
       "      <td>22</td>\n",
       "      <td>P</td>\n",
       "      <td>A</td>\n",
       "    </tr>\n",
       "    <tr>\n",
       "      <th>2</th>\n",
       "      <td>31</td>\n",
       "      <td>R</td>\n",
       "      <td>G</td>\n",
       "    </tr>\n",
       "    <tr>\n",
       "      <th>3</th>\n",
       "      <td>35</td>\n",
       "      <td>G</td>\n",
       "      <td>T</td>\n",
       "    </tr>\n",
       "    <tr>\n",
       "      <th>4</th>\n",
       "      <td>41</td>\n",
       "      <td>E</td>\n",
       "      <td>D</td>\n",
       "    </tr>\n",
       "    <tr>\n",
       "      <th>5</th>\n",
       "      <td>48</td>\n",
       "      <td>H</td>\n",
       "      <td>N</td>\n",
       "    </tr>\n",
       "    <tr>\n",
       "      <th>6</th>\n",
       "      <td>53</td>\n",
       "      <td>D</td>\n",
       "      <td>E</td>\n",
       "    </tr>\n",
       "    <tr>\n",
       "      <th>7</th>\n",
       "      <td>54</td>\n",
       "      <td>E</td>\n",
       "      <td>D</td>\n",
       "    </tr>\n",
       "    <tr>\n",
       "      <th>8</th>\n",
       "      <td>57</td>\n",
       "      <td>A</td>\n",
       "      <td>G</td>\n",
       "    </tr>\n",
       "    <tr>\n",
       "      <th>9</th>\n",
       "      <td>66</td>\n",
       "      <td>A</td>\n",
       "      <td>C</td>\n",
       "    </tr>\n",
       "    <tr>\n",
       "      <th>10</th>\n",
       "      <td>74</td>\n",
       "      <td>G</td>\n",
       "      <td>T</td>\n",
       "    </tr>\n",
       "    <tr>\n",
       "      <th>11</th>\n",
       "      <td>81</td>\n",
       "      <td>H</td>\n",
       "      <td>Q</td>\n",
       "    </tr>\n",
       "    <tr>\n",
       "      <th>12</th>\n",
       "      <td>83</td>\n",
       "      <td>E</td>\n",
       "      <td>A</td>\n",
       "    </tr>\n",
       "    <tr>\n",
       "      <th>13</th>\n",
       "      <td>87</td>\n",
       "      <td>K</td>\n",
       "      <td>Q</td>\n",
       "    </tr>\n",
       "    <tr>\n",
       "      <th>14</th>\n",
       "      <td>110</td>\n",
       "      <td>C</td>\n",
       "      <td>I</td>\n",
       "    </tr>\n",
       "    <tr>\n",
       "      <th>15</th>\n",
       "      <td>113</td>\n",
       "      <td>Q</td>\n",
       "      <td>E</td>\n",
       "    </tr>\n",
       "    <tr>\n",
       "      <th>16</th>\n",
       "      <td>116</td>\n",
       "      <td>Q</td>\n",
       "      <td>K</td>\n",
       "    </tr>\n",
       "    <tr>\n",
       "      <th>17</th>\n",
       "      <td>117</td>\n",
       "      <td>S</td>\n",
       "      <td>K</td>\n",
       "    </tr>\n",
       "    <tr>\n",
       "      <th>18</th>\n",
       "      <td>118</td>\n",
       "      <td>K</td>\n",
       "      <td>R</td>\n",
       "    </tr>\n",
       "    <tr>\n",
       "      <th>19</th>\n",
       "      <td>120</td>\n",
       "      <td>P</td>\n",
       "      <td>S</td>\n",
       "    </tr>\n",
       "    <tr>\n",
       "      <th>20</th>\n",
       "      <td>132</td>\n",
       "      <td>N</td>\n",
       "      <td>S</td>\n",
       "    </tr>\n",
       "    <tr>\n",
       "      <th>21</th>\n",
       "      <td>140</td>\n",
       "      <td>K</td>\n",
       "      <td>N</td>\n",
       "    </tr>\n",
       "    <tr>\n",
       "      <th>22</th>\n",
       "      <td>142</td>\n",
       "      <td>M</td>\n",
       "      <td>I</td>\n",
       "    </tr>\n",
       "    <tr>\n",
       "      <th>23</th>\n",
       "      <td>144</td>\n",
       "      <td>S</td>\n",
       "      <td>A</td>\n",
       "    </tr>\n",
       "    <tr>\n",
       "      <th>24</th>\n",
       "      <td>145</td>\n",
       "      <td>N</td>\n",
       "      <td>K</td>\n",
       "    </tr>\n",
       "  </tbody>\n",
       "</table>\n",
       "</div>"
      ],
      "text/plain": [
       "    Index Sequence 1 Sequence 2\n",
       "0      21          I          L\n",
       "1      22          P          A\n",
       "2      31          R          G\n",
       "3      35          G          T\n",
       "4      41          E          D\n",
       "5      48          H          N\n",
       "6      53          D          E\n",
       "7      54          E          D\n",
       "8      57          A          G\n",
       "9      66          A          C\n",
       "10     74          G          T\n",
       "11     81          H          Q\n",
       "12     83          E          A\n",
       "13     87          K          Q\n",
       "14    110          C          I\n",
       "15    113          Q          E\n",
       "16    116          Q          K\n",
       "17    117          S          K\n",
       "18    118          K          R\n",
       "19    120          P          S\n",
       "20    132          N          S\n",
       "21    140          K          N\n",
       "22    142          M          I\n",
       "23    144          S          A\n",
       "24    145          N          K"
      ]
     },
     "execution_count": 4,
     "metadata": {},
     "output_type": "execute_result"
    }
   ],
   "source": [
    "df = compare_sequences(sequence1, sequence2)\n",
    "df"
   ]
  },
  {
   "cell_type": "markdown",
   "id": "c43167a1-aed0-4243-8f64-241690c566b4",
   "metadata": {},
   "source": [
    "## 💻Amino Acid Analysis and Structure Visualization\n",
    "\n",
    "In this section, we will analyze the properties and visualize the structures of amino acids. Amino acids are the building blocks of proteins, each with unique chemical properties and structures. We will explore various characteristics such as molecular weight, hydrophobicity, and amino acid composition, as well as visualize their structures to gain insights into their functions and interactions within proteins. The proportion of each amino acid of each sequence will be visualise with a bar diagram with the help of the function **proportion_amino_acid**.\n",
    "\n",
    "Let's start by seeing a few properties\n",
    "\n",
    "### Molecular weight\n",
    "You should be able to see the molecular weight of each amino acid sequence. To do so, you can see in the functions python file that **ProteinAnalysis** has been imported from Bio.SeqUtils.ProtParam. This is a module of the Biopython library that provides tools for calculating various physico-chemical properties of proteins from their amino acid sequence. This allow us to calculate the molecular weight of proteins.\n",
    "\n",
    "##### Example Usage for the molecular weight:\n",
    "- The molecular weight of your first amino acid sequence is: 17183.597 g/mol\n",
    "- The molecular weight of your second amino acid sequence is: 17069.467 g/mol"
   ]
  },
  {
   "cell_type": "code",
   "execution_count": 5,
   "id": "57bf09d5-dd16-4de3-9f9f-eb817900eeb6",
   "metadata": {},
   "outputs": [
    {
     "name": "stdout",
     "output_type": "stream",
     "text": [
      "The molecular weight of your first amino acid sequence is: 17183.597 g/mol\n",
      "\n",
      "The molecular weight of your second amino acid sequence is: 17069.467 g/mol\n"
     ]
    }
   ],
   "source": [
    "analyzed_seq1 = ProteinAnalysis(str(sequence1))\n",
    "analyzed_seq2 = ProteinAnalysis(str(sequence2))\n",
    "\n",
    "molecular_weight1 = round(analyzed_seq1.molecular_weight(), 3)\n",
    "molecular_weight2 = round(analyzed_seq2.molecular_weight(), 3)\n",
    "\n",
    "print(f\"The molecular weight of your first amino acid sequence is: {molecular_weight1} g/mol\")\n",
    "print()\n",
    "print(f\"The molecular weight of your second amino acid sequence is: {molecular_weight2} g/mol\")"
   ]
  },
  {
   "cell_type": "markdown",
   "id": "358602aa-3785-444f-9b99-a3a02ad3a1d3",
   "metadata": {},
   "source": [
    "### Visualizing proportion of amino acid\n",
    "You should be able to see the proportion of each amino acid in both sequences with a bar chart. To do so, we use the function **proportion_amino_acid** that taken for the inputs the sequences (sequence1 and sequence2) and you can see how many amino acids you have."
   ]
  },
  {
   "cell_type": "code",
   "execution_count": 6,
   "id": "2e742af2-3dff-48c4-978d-8ed72c93b490",
   "metadata": {},
   "outputs": [
    {
     "data": {
      "image/png": "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",
      "text/plain": [
       "<Figure size 1200x1200 with 2 Axes>"
      ]
     },
     "metadata": {},
     "output_type": "display_data"
    }
   ],
   "source": [
    "proportion_amino_acid(sequence1, sequence2) "
   ]
  },
  {
   "cell_type": "markdown",
   "id": "ec8266bb-0cd5-4b5d-bdb6-bc89edc80765",
   "metadata": {},
   "source": [
    "## 📝Substitutions Conservatrices in Biochemistry Amino Acids\n",
    "\n",
    "In biochemistry, substitutions conservatrices refer to amino acid substitutions in protein sequences that preserve the physicochemical properties or functional roles of the amino acids involved. These substitutions maintain the structure and function of the protein despite alterations in the amino acid sequence.\n",
    "\n",
    "### Characteristics:\n",
    "- **Conservation of Function**: Preserves biochemical properties or functional roles.\n",
    "- **Conservation of Structure**: Maintains structural integrity, especially in critical regions.\n",
    "- **Functional Redundancy**: Utilizes multiple amino acids with similar roles.\n",
    "\n",
    "### Examples📚:\n",
    "- Aromatic Residues: Phenylalanine, tyrosine, and tryptophan.\n",
    "- Hydrophobic Residues: Leucine, isoleucine, and valine.\n",
    "- Charge Conservation: Lysine and arginine, glutamate and aspartate.\n",
    "\n",
    "### Importance:\n",
    "Understanding substitutions conservatrices predicts the effects of mutations on protein structure and function, aiding in informed hypotheses about protein behavior.\n",
    "\n",
    "**Please make sure that your amino acid sequences are the same length to use this code, as without the same length, this code has no sense**\n",
    "\n",
    "You should be able to get the number of conservative substitutions thanks to the function **count_conservative_substitutions**."
   ]
  },
  {
   "cell_type": "code",
   "execution_count": null,
   "id": "b0babc94-7493-4b29-b215-a128353aae16",
   "metadata": {},
   "outputs": [],
   "source": [
    "num_conserv_substitutions = count_conservative_substitutions(sequence1, sequence2)\n",
    "\n",
    "print(\"The number of conservative substitutions :\", num_conserv_substitutions)"
   ]
  },
  {
   "cell_type": "markdown",
   "id": "4a00937f-e730-468d-a1da-6d96b4ac575d",
   "metadata": {},
   "source": [
    "## 🧩 Amino Acid Composition Analysis\n",
    "\n",
    "Now let's analyze the amino acid composition of the proteins. \n",
    "\n",
    "First, let's analyze the **amino acid composition** 👩🏻‍🔬 of both sequences."
   ]
  },
  {
   "cell_type": "markdown",
   "id": "6f2efc37-f6e3-420c-aa33-5382880ba7ab",
   "metadata": {},
   "source": [
    "### 🔍 Counting Specific type of Amino Acids in Protein Sequences (hydrophobic, base...)\n",
    "\n",
    "This Jupyter notebook code snippet counts and displays the number of different types of amino acids in given protein sequences. The steps below outline the functionality of the code:\n",
    "\n",
    "1. **Count Amino Acids in Protein Sequences**:\n",
    "    - The `count_amino_acids` function from the `functions` module is used to count the amino acids in the given protein sequences, `sequence1` and `sequence2`.\n",
    "    - The counts for `sequence1` are stored in `counts_1rsprotein`.\n",
    "    - The counts for `sequence2` are stored in `counts_2ndprotein`.\n",
    "\n",
    "2. **Print Amino Acid Counts**:\n",
    "    - The code prints the protein sequence `sequence1`.\n",
    "    - It prints the number of hydrophobic, hydrophilic, acidic, and basic amino acids in `sequence1` using the counts stored in `counts_1rsprotein`.\n",
    "\n",
    "### Example Usage\n",
    "\n",
    "If the sequences and the `count_amino_acids` function are properly defined, running this code will provide a detailed breakdown of the types of amino acids in the protein sequences. This is useful for analyzing the properties of proteins based on their amino acid composition.\n",
    "\n",
    "For a sequence \"MVHLTPEEK\", one would expect; \n",
    "- Number of hydrophobic amino acids: 3\n",
    "- Number of hydrophilic amino acids: 1\n",
    "- Number of acidic amino acids: 2 \n",
    "- Number of basic amino acids: 2"
   ]
  },
  {
   "cell_type": "code",
   "execution_count": null,
   "id": "2125aec1-31e4-4420-83a1-f2d1896e1526",
   "metadata": {},
   "outputs": [],
   "source": [
    "counts_1rsprotein = count_amino_acids(sequence1)\n",
    "print(f\"Séquence : {sequence1}\")\n",
    "print(\"Number of hydrophobic amino acids :\", counts_1rsprotein[\"hydrophobics\"])\n",
    "print(\"Number of hydrophilic amino acids  :\", counts_1rsprotein[\"hydrophiles\"])\n",
    "print(\"Number of acidic amino acids :\", counts_1rsprotein[\"acids\"])\n",
    "print(\"Number of basic amino acids  :\", counts_1rsprotein[\"bases\"])\n"
   ]
  },
  {
   "cell_type": "code",
   "execution_count": null,
   "id": "4334060d-04b0-44d8-b5a0-0c2f3cfe9481",
   "metadata": {},
   "outputs": [],
   "source": [
    "counts_2ndprotein = count_amino_acids(sequence2)\n",
    "print(f\"Séquence : {sequence2}\")\n",
    "print(\"Number of hydrophobic amino acids :\", counts_2ndprotein[\"hydrophobics\"])\n",
    "print(\"Number of hydrophilic amino acids  :\", counts_2ndprotein[\"hydrophiles\"])\n",
    "print(\"Number of acidic amino acids :\", counts_2ndprotein[\"acids\"])\n",
    "print(\"Number of basic amino acids  :\", counts_2ndprotein[\"bases\"])\n"
   ]
  },
  {
   "cell_type": "markdown",
   "id": "824dffc8-4d4f-4d3b-a463-2cdf8fce5af7",
   "metadata": {},
   "source": [
    "## 🎉Protein Visualization\n",
    "\n",
    "Protein visualization is an essential aspect of structural biology and bioinformatics, allowing researchers to understand the three-dimensional structure and function of proteins. Interactive molecular visualization tools provide powerful capabilities for visualizing and analyzing protein structures directly within Jupyter Notebooks. Before to visualize the protein in 3D, we need to get the PDB name because we use a python package name py3Dmol that needs the PDB name to visualize the protein in 3D. The first part of this section consist to convert the unitprot name (as an example of form MYG_HUMAN) into PDB name (example : 3RGK).\n",
    "\n",
    "### Expected Output📚\n",
    "You should be able to see the protein structures in 3D and be able to zoom in/out, and turn the protein around. It works by using the function named **unit_prot_to_pdb**. Please note that the code may not display the protein in 3D if it doesn't have a PDB code (this is what happens with the mouse myoglobin protein).\n"
   ]
  },
  {
   "cell_type": "code",
   "execution_count": null,
   "id": "60c96a3f-3f5d-4a92-9919-c23901a5768e",
   "metadata": {},
   "outputs": [],
   "source": [
    "pdb_id1 = uniprot_to_pdb(protein_name1)\n",
    "if pdb_id1:\n",
    "    print(f\"The PDB Code associated to the first protein {protein_name1} is : {pdb_id1}\")\n",
    "else:\n",
    "    print(f\"No PDB Code is associated to this first protein {protein_name1}\")\n",
    "\n",
    "pdb_id2 = uniprot_to_pdb(protein_name2)\n",
    "if pdb_id2:\n",
    "    print(f\"The PDB code of the second protein {protein_name2} is : {pdb_id2}\")\n",
    "else:\n",
    "    print(f\"No PDB code is associated to the second protein {protein_name2}\")"
   ]
  },
  {
   "cell_type": "code",
   "execution_count": null,
   "id": "bb22c41e-79f7-44f7-9a5f-754330fd613f",
   "metadata": {},
   "outputs": [],
   "source": [
    "view = py3Dmol.view(query=pdb_id1)\n",
    "\n",
    "view.setStyle({'cartoon':{'color':'spectrum'}})\n",
    "\n",
    "view"
   ]
  },
  {
   "cell_type": "code",
   "execution_count": null,
   "id": "afa38304-6c1e-4fbb-8f2d-bd8cb4bb7f3d",
   "metadata": {},
   "outputs": [],
   "source": [
    "view = py3Dmol.view(query=pdb_id2)\n",
    "\n",
    "view.setStyle({'cartoon':{'color':'spectrum'}})\n",
    "\n",
    "view\n",
    "\n"
   ]
  },
  {
   "cell_type": "markdown",
   "id": "532b5a11-18cc-4ce6-97b8-d7ee3687b457",
   "metadata": {},
   "source": [
    "## 💡Gap Method for Sequence Alignment\n",
    "\n",
    "Now let's move onto using the Gap Method. This code implements a simple sequence alignment method using a gap. Sequence alignment is a fundamental task in bioinformatics used to identify regions of similarity between DNA, RNA, or protein sequences.\n",
    "\n",
    "### Explanation:\n",
    "This code is useful for aligning and comparing sequences to identify similarities and differences between them. The Needleman-Wunsch algorithm ensures optimal global alignment, considering all possible alignments to maximize similarity.\n",
    "\n",
    "### What is the Needleman-Wunsch algorithm?\n",
    "The Needleman-Wunsch algorithm is a dynamic programming algorithm used for global pairwise sequence alignment. It compares two sequences by optimizing a scoring scheme that rewards matches and penalizes mismatches and gaps. By considering all possible alignments and choosing the one with the highest score, it identifies the optimal alignment, providing insights into the evolutionary relationships and functional similarities between the sequences.\n",
    "\n",
    "### Example Output📚\n",
    "For sequences defined as: \n",
    "- sequence1 = MYG_HUMAN\n",
    "- sequence2 = MYG_MOUSE\n",
    "\n",
    "One would obtain the following as output:\n",
    "  - Sequence 1 aligned: MGLSDGEWQLVLNVWGKVEADIP--GHGQEVLIR-LFKG-HPETLE-KFDKFKH-LKSEDE-MKA-SEDLKKHGA-TVLTALGG-ILKKKGH-HEA-EIK-PLAQSHATKHKIPVKYLEFISECIIQ--VLQSK--HP-GDFGADAQGAMN-KALELFRK-DM-ASN--YKELGFQG\n",
    "  - Sequence 2 aligned: MGLSDGEWQLVLNVWGKVEAD--LAGHGQEVLI-GLFK-THPETL-DKFDKFK-NLKSE-EDMK-GSEDLKKHG-CTVLTAL-GTILKKKG-QH-AAEI-QPLAQSHATKHKIPVKYLEFISE-II-IEVL--KKRH-SGDFGADAQGAM-SKALELFR-ND-IA--AKYKELGFQG\n",
    "  - Number of matches: 131\n",
    "  - Score: 735\n",
    "  - Number of gaps in Sequence 1: 23\n",
    "  - Number of gaps in Sequence 2: 23\n",
    "\n",
    "Thanks to the **calculate_alignement_details** function, this displays the sequences of the two proteins with their gaps. The score is calculated by using the number of gaps of the protein with the function **calculate_number_of_gaps**. You should realize that the number of amino acids that match is bigger than before (example of myoglobine human and mouse : without introduction of gaps, the number of matches was equal to 129 and with gaps is about 131)."
   ]
  },
  {
   "cell_type": "code",
   "execution_count": null,
   "id": "3384e6a9-cdfa-428e-b86e-30f8003cee51",
   "metadata": {},
   "outputs": [],
   "source": [
    "sequence1_aligned, sequence2_aligned, begin, end, num_matches = calculate_alignment_details(sequence1, sequence2)\n",
    "num_gaps_sequence1 = calculate_number_of_gaps(sequence1_aligned, sequence1)\n",
    "num_gaps_sequence2 = calculate_number_of_gaps(sequence2_aligned, sequence2)\n",
    "score = 10*num_matches - 25*num_gaps_sequence1\n",
    "\n",
    "print(\"Sequence 1 aligned:\", sequence1_aligned)\n",
    "print(\"Sequence 2 aligned:\", sequence2_aligned)\n",
    "print(\"Number of matches:\", num_matches)\n",
    "print(\"Score:\", score)\n",
    "print(\"Number of gaps in Sequence 1:\", num_gaps_sequence1)\n",
    "print(\"Number of gaps in Sequence 2:\", num_gaps_sequence2)\n"
   ]
  },
  {
   "cell_type": "markdown",
   "id": "019a57f1-f8a8-4f58-925c-92f4415bdbdf",
   "metadata": {},
   "source": [
    "## 🧠 Gap Method for Sequence Alignment - Your Turn!\n",
    "\n",
    "Now it's your turn to determine what gap size and where you want to add your gap! You should realize here that is hard to know where to introduce a gap and the length because it will be change completely the match of amino acids.\n",
    "\n",
    "### Example Output📚\n",
    "For sequences defined as: \n",
    "- sequence1 = MYG_HUMAN\n",
    "- sequence2 = MYG_MOUSE\n",
    "\n",
    "if you try :\n",
    "- **gap_length = 2**\n",
    "- **position = 2**\n",
    "you get **num_matches=10**\n",
    "\n",
    "\n",
    "You can now observe that if you do not have any information regarding the position and length of the gap you wish to introduce, it will be exceedingly difficult to achieve a significant number of matches. In this example, we have seen the number of amino acid matches decrease from 129 to 10 due to the introduction of this gap. Using the Needleman-Wunsch algorithm is highly effective and imperative when aiming to achieve maximal alignment."
   ]
  },
  {
   "cell_type": "code",
   "execution_count": null,
   "id": "a177983f-13b9-4298-8f45-5ee3156744b2",
   "metadata": {},
   "outputs": [],
   "source": [
    "gap_length = int(input(\"Enter the length of the gap: \"))\n",
    "position = int(input(\"Enter the position to apply the gap: \"))\n",
    "\n",
    "num_matches = count_matches_with_gap(sequence1, sequence2, gap_length, position)\n",
    "print(\"Number of matches found with the gap method is:\", num_matches)"
   ]
  },
  {
   "cell_type": "markdown",
   "id": "472720e5-3d94-4a4c-ba2a-b85cc292877e",
   "metadata": {},
   "source": [
    "# ProtaVision: Challenges and Features - General Remarks\n",
    "\n",
    "## Introduction\n",
    "\n",
    "Protavision is an interactive Jupyter Notebook dedicated to exploring protein structures and functions!\n",
    "\n",
    "## Motivations\n",
    "This package is useful for the students taking or interested by the biochemistry course. One can analyse 2 sequences, find the best method to get the more matches (sequence allignment and gaps). One can also try to see which secondary structure (alpha helices, beta structures, etc...) are present in the protein by visualizing the proteins in three dimensions. \n",
    "\n",
    "## Main Features\n",
    "\n",
    "- **Sequence Alignment**: Efficiently compare two protein sequences to identify matching and non-matching amino acids.\n",
    "- **Amino Acid Analysis**: Analyze properties of amino acids, such as molecular weight and composition.\n",
    "- **Substitutions Conservatrices**: Explore amino acid substitutions that preserve biochemical properties.\n",
    "- **Protein Visualization**: Visualize protein structures in 3D using PDB codes.\n",
    "- **Gap Method for Sequence Alignment**: Implement a gap-based sequence alignment method.\n",
    "\n",
    "## Challenges Encountered\n",
    "\n",
    "1. **PDB Retrieval**: Finding PDB codes for protein visualization posed a challenge, especially for proteins with no assigned PDB codes (as myoglobin for mouse for example).\n",
    "2. **Sequence Alignment**: Writing code for sequence alignment, especially implementing the Needleman-Wunsch algorithm, required careful consideration and debugging.\n",
    "3. **Package Compatibility**: Ensuring compatibility between different Python packages used in the notebook, such as Biopython and py3Dmol, sometimes resulted in compatibility issues.\n",
    "4. **User Input Handling**: Handling user input for gap-based sequence alignment involves validating inputs and error handling to ensure smooth execution.\n",
    "5. **Using GitHub and handling conflicts**: We were having issues working on the notebook together and learning how to use multiple features such as pushing and pulling edits, dealing with environments and packages, dealing with README for the table of contents (links were not working)\n",
    "\n",
    "## Tools Used\n",
    "\n",
    "- **Biopython**: Utilized for retrieving protein sequences from the UniProt database and performing sequence alignment.\n",
    "- **py3Dmol**: Used for visualizing protein structures in 3D within Jupyter Notebook.\n",
    "- **Jupyter Notebook**: Provided an interactive environment for running code, visualizing data, and documenting the analysis process.\n",
    "- **pandas**: Used for visualizing in a table index and types of amino acids that don't match between 2 sequences.\n",
    "- **matplotlib**: Used to draw a bar graph to show how many amino acids we have for each.\n",
    "\n",
    "## Conclusion\n",
    "\n",
    "ProtaVision offers a comprehensive toolkit for exploring protein structures and functions, and overcoming challenges in sequence alignment, visualization, and analysis. With its intuitive interface and powerful functionalities, it serves as a valuable resource for bioinformatics enthusiasts and researchers alike.\n"
   ]
  }
 ],
 "metadata": {
  "kernelspec": {
   "display_name": "Python 3 (ipykernel)",
   "language": "python",
   "name": "python3"
  },
  "language_info": {
   "codemirror_mode": {
    "name": "ipython",
    "version": 3
   },
   "file_extension": ".py",
   "mimetype": "text/x-python",
   "name": "python",
   "nbconvert_exporter": "python",
   "pygments_lexer": "ipython3",
   "version": "3.10.14"
  }
 },
 "nbformat": 4,
 "nbformat_minor": 5
}
