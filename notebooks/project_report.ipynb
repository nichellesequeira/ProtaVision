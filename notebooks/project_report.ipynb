{
 "cells": [
  {
   "cell_type": "markdown",
   "id": "e7fd421d-6b4e-4156-aca3-8ed76e343043",
   "metadata": {},
   "source": [
    "# Welcome to ProtaVision: Delving into Protein Structures and Functions🧬🔬🧪🧫🦠\n",
    "---\n",
    "Welcome to this interactive Jupyter Notebook! 🎉\n",
    "\n",
    "**About This Notebook:**\n",
    "This notebook is dedicated to facilitating sequence alignment, a fundamental principle in bioinformatics. Using a custom package, you can input two proteins from a dictionary and efficiently determine the number of matching amino acids, as well as identify the indices of those that do not match. Whether you're delving into bioinformatics for the first time or seeking a streamlined tool for protein analysis, this notebook provides a comprehensive solution.\n",
    "\n",
    "**Getting Started:**\n",
    "To get started, simply navigate through the sections using the table of contents provided on the ReadMe. Each section is packed with explanations, code snippets, and visualizations to help you grasp concepts effectively. \n",
    "NOTE: For this package, we use the biopython package. One can do this by typing \"pip install biopython\". Sometimes you can still encouter an error, in this case please use this piece of code before executing the code: !pip install biopython. The error occurs because it's possible that Jupyter Notebook is not using the same Python environment where Biopython is installed. Jupyter Notebook can use different Python environments, and sometimes the packages installed in one environment might not be available in another.\n",
    "\n",
    "**How to Use:**\n",
    "Feel free to experiment with the code! Modify variables, tweak parameters, and run cells to see how different changes affect the outcomes. Don't hesitate to ask questions or seek clarification whenever needed.\n",
    "\n",
    "**Additional Resources:**\n",
    "If you're new to Jupyter Notebooks or need a refresher, check out the [Jupyter Notebook Documentation](https://jupyter-notebook.readthedocs.io/en/stable/) for comprehensive guidance.\n",
    "\n",
    "**Questions?**\n",
    "If you have any questions, please contact nichelle.sequeira@epfl.ch or aurelie.masson@epfl.ch\n",
    "\n",
    "**Let's Dive In!**\n",
    "Start exploring and discovering insights within this notebook. Happy coding! 🚀"
   ]
  },
  {
   "cell_type": "markdown",
   "id": "59926b16-ce15-4a66-9761-9e5757a5a0b6",
   "metadata": {},
   "source": [
    "Let's Get Started! \n",
    "---\n",
    "Using the function, **get_protein_sequence(protein_name1)**, users input the name of a protein and fetch its sequence from the Swiss-Prot database using the Biopython library.\n",
    "\n",
    "Using a Python script designed to fetch the sequence of a protein from the **UniProt** database using its name (e.g., \"MYG_HUMAN\"). \n",
    "\n",
    "We will start by importing the required libraries; Bio.SeqIO (a module from Biopython used for reading and writing sequence files in different formats), and Bio.ExPASy (a module that provides access to tools and databases hosted on the ExPASy server, including the Swiss-Prot database). "
   ]
  },
  {
   "cell_type": "code",
   "execution_count": 1,
   "id": "61abf9e8-e71c-41d7-9555-3081ce2fd907",
   "metadata": {},
   "outputs": [
    {
     "ename": "ModuleNotFoundError",
     "evalue": "No module named 'src'",
     "output_type": "error",
     "traceback": [
      "\u001b[1;31m---------------------------------------------------------------------------\u001b[0m",
      "\u001b[1;31mModuleNotFoundError\u001b[0m                       Traceback (most recent call last)",
      "Cell \u001b[1;32mIn[1], line 3\u001b[0m\n\u001b[0;32m      1\u001b[0m \u001b[38;5;28;01mfrom\u001b[39;00m \u001b[38;5;21;01mBio\u001b[39;00m \u001b[38;5;28;01mimport\u001b[39;00m SeqIO\n\u001b[0;32m      2\u001b[0m \u001b[38;5;28;01mfrom\u001b[39;00m \u001b[38;5;21;01mBio\u001b[39;00m \u001b[38;5;28;01mimport\u001b[39;00m ExPASy\n\u001b[1;32m----> 3\u001b[0m \u001b[38;5;28;01mfrom\u001b[39;00m \u001b[38;5;21;01msrc\u001b[39;00m\u001b[38;5;21;01m.\u001b[39;00m\u001b[38;5;21;01mprotavision\u001b[39;00m \u001b[38;5;28;01mimport\u001b[39;00m functions\n\u001b[0;32m      4\u001b[0m \u001b[38;5;28;01mfrom\u001b[39;00m \u001b[38;5;21;01mfunctions\u001b[39;00m \u001b[38;5;28;01mimport\u001b[39;00m get_protein_sequence\n\u001b[0;32m      6\u001b[0m protein_name1 \u001b[38;5;241m=\u001b[39m \u001b[38;5;28minput\u001b[39m(\u001b[38;5;124m\"\u001b[39m\u001b[38;5;124mPlease enter the name of the first protein (example MYG_HUMAN): \u001b[39m\u001b[38;5;124m\"\u001b[39m)\n",
      "\u001b[1;31mModuleNotFoundError\u001b[0m: No module named 'src'"
     ]
    }
   ],
   "source": [
    "from Bio import SeqIO\n",
    "from Bio import ExPASy\n",
    "from src.protavision import functions\n",
    "from functions import get_protein_sequence\n",
    "\n",
    "protein_name1 = input(\"Please enter the name of the first protein (example MYG_HUMAN): \")\n",
    "\n",
    "# Call the function using the module name\n",
    "sequence1 = functions.get_protein_sequence(protein_name1)\n",
    "print(f\"This is the sequence of your first protein: {sequence1}\")"
   ]
  },
  {
   "cell_type": "code",
   "execution_count": null,
   "id": "d4e6e966-434b-4bae-ac0e-5dbb63a20998",
   "metadata": {},
   "outputs": [],
   "source": [
    "from functions import get_protein_sequence\n",
    "\n",
    "\n",
    "protein_name2 = input(\"Please enter the name of the second protein (example MYG_MOUSE): \")\n",
    "sequence2 = get_protein_sequence(protein_name2)\n",
    "print(f\"This is the sequence of your second protein; {sequence2}\")"
   ]
  },
  {
   "cell_type": "markdown",
   "id": "1d8f0ddc-8435-4798-b0bd-1a0c15df57f9",
   "metadata": {},
   "source": [
    "Next Step: Let's find the differences between the two sequences!🧬\n",
    "---\n",
    "This code snippet compares two sequences (sequence1 and sequence2) character by character to find their differences and displays the index, and the respective amino acids from each sequence at that index. This code can be used for comparing sequences, such as DNA or protein sequences, and identifying variations or mutations between them."
   ]
  },
  {
   "cell_type": "code",
   "execution_count": null,
   "id": "f9de6484-0770-4d6a-ba74-103a4c6cbb96",
   "metadata": {},
   "outputs": [],
   "source": [
    "import pandas as pd\n",
    "import functions\n",
    "from functions import compare_sequences\n",
    "df = compare_sequences(sequence1, sequence2)\n",
    "\n",
    "df"
   ]
  },
  {
   "cell_type": "markdown",
   "id": "c43167a1-aed0-4243-8f64-241690c566b4",
   "metadata": {},
   "source": [
    "## Amino Acid Analysis and Structure Visualization\n",
    "\n",
    "In this section, we will analyze the properties and visualize the structures of amino acids. Amino acids are the building blocks of proteins, each with unique chemical properties and structures. We will explore various characteristics such as molecular weight, hydrophobicity, and amino acid composition, as well as visualize their structures to gain insights into their functions and interactions within proteins. The proportion of each amino acid of each sequence will be visualise with a bar diagram with the help of the function proportion_amino_acid.\n",
    "\n",
    "Let's start by seeing a few properties"
   ]
  },
  {
   "cell_type": "code",
   "execution_count": null,
   "id": "57bf09d5-dd16-4de3-9f9f-eb817900eeb6",
   "metadata": {},
   "outputs": [],
   "source": [
    "from Bio.SeqUtils.ProtParam import ProteinAnalysis\n",
    "analyzed_seq1 = ProteinAnalysis(str(sequence1))\n",
    "analyzed_seq2 = ProteinAnalysis(str(sequence2))\n",
    "\n",
    "molecular_weight1 = round(analyzed_seq1.molecular_weight(), 3)\n",
    "molecular_weight2 = round(analyzed_seq2.molecular_weight(), 3)\n",
    "\n",
    "\n",
    "# Print the molecular weight using an f-string\n",
    "\n",
    "print(f\"The molecular weight of your first amino acid sequence is: {molecular_weight1} g/mol\")\n",
    "print()\n",
    "print(f\"The molecular weight of your second amino acid sequence is: {molecular_weight2} g/mol\")"
   ]
  },
  {
   "cell_type": "code",
   "execution_count": null,
   "id": "2e742af2-3dff-48c4-978d-8ed72c93b490",
   "metadata": {},
   "outputs": [],
   "source": [
    "import matplotlib.pyplot as plt\n",
    "from Bio.SeqUtils.ProtParam import ProteinAnalysis\n",
    "\n",
    "from functions import proportion_amino_acid\n",
    "\n",
    "\n",
    "proportion_amino_acid(sequence1, sequence2)\n"
   ]
  },
  {
   "cell_type": "markdown",
   "id": "ec8266bb-0cd5-4b5d-bdb6-bc89edc80765",
   "metadata": {},
   "source": [
    "## Substitutions Conservatrices in Biochemistry Amino Acids\n",
    "\n",
    "In biochemistry, substitutions conservatrices refer to amino acid substitutions in protein sequences that preserve the physicochemical properties or functional roles of the amino acids involved. These substitutions maintain the structure and function of the protein despite alterations in the amino acid sequence.\n",
    "\n",
    "### Characteristics:\n",
    "- **Conservation of Function**: Preserves biochemical properties or functional roles.\n",
    "- **Conservation of Structure**: Maintains structural integrity, especially in critical regions.\n",
    "- **Functional Redundancy**: Utilizes multiple amino acids with similar roles.\n",
    "\n",
    "### Examples:\n",
    "- Aromatic Residues: Phenylalanine, tyrosine, and tryptophan.\n",
    "- Hydrophobic Residues: Leucine, isoleucine, and valine.\n",
    "- Charge Conservation: Lysine and arginine, glutamate and aspartate.\n",
    "\n",
    "### Importance:\n",
    "Understanding substitutions conservatrices predicts the effects of mutations on protein structure and function, aiding in informed hypotheses about protein behavior.\n",
    "\n",
    "**Please make sure that your amino acid sequences are the same length to use this code, as without the same length, this code has no sense**"
   ]
  },
  {
   "cell_type": "code",
   "execution_count": null,
   "id": "b0babc94-7493-4b29-b215-a128353aae16",
   "metadata": {},
   "outputs": [],
   "source": [
    "from functions import count_conservative_substitutions\n",
    "\n",
    "#example of utilisation (with sequence1 and 2) \n",
    "\n",
    "num_conserv_substitutions = count_conservative_substitutions(sequence1, sequence2)\n",
    "\n",
    "print(\"The number of conservative substitutions :\", num_conserv_substitutions)\n"
   ]
  },
  {
   "cell_type": "markdown",
   "id": "824dffc8-4d4f-4d3b-a463-2cdf8fce5af7",
   "metadata": {},
   "source": [
    "#### Protein Visualization\n",
    "\n",
    "Protein visualization is an essential aspect of structural biology and bioinformatics, allowing researchers to understand the three-dimensional structure and function of proteins. Interactive molecular visualization tools provide powerful capabilities for visualizing and analyzing protein structures directly within Jupyter Notebooks. Before to visualize the protein in 3D, we need to get the PDB name because we use a python package name py3Dmol that needs the PDB name to visualize the protein in 3D. The first part of this section consist to convert the unitprot name (as an example of form MYG_HUMAN) into PDB name (example : 3RGK).\n",
    "\n"
   ]
  },
  {
   "cell_type": "code",
   "execution_count": null,
   "id": "60c96a3f-3f5d-4a92-9919-c23901a5768e",
   "metadata": {},
   "outputs": [],
   "source": [
    "from functions import uniprot_to_pdb\n",
    "\n",
    "\n",
    "pdb_id1 = uniprot_to_pdb(protein_name1)\n",
    "if pdb_id1:\n",
    "    print(f\"The PDB Code associated to the first protein {protein_name1} is : {pdb_id1}\")\n",
    "else:\n",
    "    print(f\"No PDB Code is associated to this first protein {protein_name1}\")\n",
    "\n",
    "pdb_id2 = uniprot_to_pdb(protein_name2)\n",
    "if pdb_id2:\n",
    "    print(f\"The PDB code of the second protein {protein_name2} is : {pdb_id2}\")\n",
    "else:\n",
    "    print(f\"No PDB code is associated to the second protein {protein_name2}\")"
   ]
  },
  {
   "cell_type": "code",
   "execution_count": null,
   "id": "bb22c41e-79f7-44f7-9a5f-754330fd613f",
   "metadata": {},
   "outputs": [],
   "source": [
    "import py3Dmol #install package py3Dmol is required\n",
    "\n",
    "view = py3Dmol.view(query=pdb_id1)\n",
    "\n",
    "view.setStyle({'cartoon':{'color':'spectrum'}})\n",
    "\n",
    "view"
   ]
  },
  {
   "cell_type": "code",
   "execution_count": null,
   "id": "afa38304-6c1e-4fbb-8f2d-bd8cb4bb7f3d",
   "metadata": {},
   "outputs": [],
   "source": [
    "import py3Dmol #install package py3Dmol is required\n",
    "\n",
    "view = py3Dmol.view(query=pdb_id2)\n",
    "\n",
    "view.setStyle({'cartoon':{'color':'spectrum'}})\n",
    "\n",
    "view\n",
    "\n",
    "#if nothing appears, this is normal in case there is not PDB name for your protein\n"
   ]
  },
  {
   "cell_type": "markdown",
   "id": "532b5a11-18cc-4ce6-97b8-d7ee3687b457",
   "metadata": {},
   "source": [
    "## Gap Method for Sequence Alignment\n",
    "\n",
    "Now let's move onto using the Gap Method. This code implements a simple sequence alignment method using a gap. Sequence alignment is a fundamental task in bioinformatics used to identify regions of similarity between DNA, RNA, or protein sequences.\n",
    "\n",
    "### Explanation:\n",
    "This code is useful for aligning and comparing sequences to identify similarities and differences between them. The Needleman-Wunsch algorithm ensures optimal global alignment, considering all possible alignments to maximize similarity.\n",
    "\n",
    "### What is the Needleman-Wunsch algorithm?\n",
    "The Needleman-Wunsch algorithm is a dynamic programming algorithm used for global pairwise sequence alignment. It compares two sequences by optimizing a scoring scheme that rewards matches and penalizes mismatches and gaps. By considering all possible alignments and choosing the one with the highest score, it identifies the optimal alignment, providing insights into the evolutionary relationships and functional similarities between the sequences."
   ]
  },
  {
   "cell_type": "code",
   "execution_count": null,
   "id": "3384e6a9-cdfa-428e-b86e-30f8003cee51",
   "metadata": {},
   "outputs": [],
   "source": [
    "from Bio import pairwise2\n",
    "from functions import calculate_alignment_details\n",
    "from functions import calculate_number_of_gaps\n",
    "\n",
    "\n",
    "sequence1_aligned, sequence2_aligned, score, begin, end, num_matches = calculate_alignment_details(sequence1, sequence2)\n",
    "num_gaps_sequence1 = calculate_number_of_gaps(sequence1_aligned, sequence1)\n",
    "num_gaps_sequence2 = calculate_number_of_gaps(sequence2_aligned, sequence2)\n",
    "score = 10*num_matches - 25*num_gaps_sequence1\n",
    "\n",
    "print(\"Sequence 1 aligned:\", sequence1_aligned)\n",
    "print(\"Sequence 2 aligned:\", sequence2_aligned)\n",
    "print(\"Number of matches:\", num_matches)\n",
    "print(\"Score:\", score)\n",
    "print(\"Number of gaps in Sequence 1:\", num_gaps_sequence1)\n",
    "print(\"Number of gaps in Sequence 2:\", num_gaps_sequence2)\n"
   ]
  },
  {
   "cell_type": "markdown",
   "id": "019a57f1-f8a8-4f58-925c-92f4415bdbdf",
   "metadata": {},
   "source": [
    "## Gap Method for Sequence Alignment - Your Turn!\n",
    "\n",
    "Now it's your turn to determine what gap size and where you want to add your gap!"
   ]
  },
  {
   "cell_type": "code",
   "execution_count": null,
   "id": "a177983f-13b9-4298-8f45-5ee3156744b2",
   "metadata": {},
   "outputs": [],
   "source": [
    "from functions import count_matches_with_gap\n",
    "\n",
    "gap_length = int(input(\"Enter the length of the gap: \"))\n",
    "position = int(input(\"Enter the position to apply the gap: \"))\n",
    "\n",
    "num_matches = count_matches_with_gap(sequence1, sequence2, gap_length, position)\n",
    "print(\"Number of matches found with the gap method is:\", num_matches)\n",
    "\n"
   ]
  },
  {
   "cell_type": "code",
   "execution_count": null,
   "id": "b2e5d441-58de-4e48-9397-2e6e37ae771d",
   "metadata": {},
   "outputs": [],
   "source": [
    "# Amino acid names, single-letter codes, three-letter codes, and SMILES codes\n",
    "amino_acids = [\n",
    "    {\"name\": \"Alanine\", \"single_letter\": \"A\", \"three_letter\": \"Ala\", \"smiles\": \"CC(=O)N\"},\n",
    "    {\"name\": \"Arginine\", \"single_letter\": \"R\", \"three_letter\": \"Arg\", \"smiles\": \"NC(CCNC(=N)N)C(=N)N\"},\n",
    "    {\"name\": \"Asparagine\", \"single_letter\": \"N\", \"three_letter\": \"Asn\", \"smiles\": \"CC(=O)N[C@@H](CCC(=O)O)C(N)=O\"},\n",
    "    {\"name\": \"Aspartic acid\", \"single_letter\": \"D\", \"three_letter\": \"Asp\", \"smiles\": \"CC(C(=O)O)C(N)=O\"},\n",
    "    {\"name\": \"Cysteine\", \"single_letter\": \"C\", \"three_letter\": \"Cys\", \"smiles\": \"C(C(=O)O)N\"},\n",
    "    {\"name\": \"Glutamine\", \"single_letter\": \"Q\", \"three_letter\": \"Gln\", \"smiles\": \"CC(=O)NC[C@H](C(=O)O)N\"},\n",
    "    {\"name\": \"Glutamic acid\", \"single_letter\": \"E\", \"three_letter\": \"Glu\", \"smiles\": \"C(CC(=O)O)C(C(=O)O)N\"},\n",
    "    {\"name\": \"Glycine\", \"single_letter\": \"G\", \"three_letter\": \"Gly\", \"smiles\": \"C(C(=O)O)N\"},\n",
    "    {\"name\": \"Histidine\", \"single_letter\": \"H\", \"three_letter\": \"His\", \"smiles\": \"C1=CNC=N1\"},\n",
    "    {\"name\": \"Isoleucine\", \"single_letter\": \"I\", \"three_letter\": \"Ile\", \"smiles\": \"CC[C@H](C)C(C)C\"},\n",
    "    {\"name\": \"Leucine\", \"single_letter\": \"L\", \"three_letter\": \"Leu\", \"smiles\": \"CC(C)CC(C(=O)O)N\"},\n",
    "    {\"name\": \"Lysine\", \"single_letter\": \"K\", \"three_letter\": \"Lys\", \"smiles\": \"NC(CCC(N)=O)C(=N)N\"},\n",
    "    {\"name\": \"Methionine\", \"single_letter\": \"M\", \"three_letter\": \"Met\", \"smiles\": \"CSCCC(C(=O)O)N\"},\n",
    "    {\"name\": \"Phenylalanine\", \"single_letter\": \"F\", \"three_letter\": \"Phe\", \"smiles\": \"c1ccc(cc1)CC(C(=O)O)N\"},\n",
    "    {\"name\": \"Proline\", \"single_letter\": \"P\", \"three_letter\": \"Pro\", \"smiles\": \"C1CC(NC1)C(=O)O\"},\n",
    "    {\"name\": \"Serine\", \"single_letter\": \"S\", \"three_letter\": \"Ser\", \"smiles\": \"C(C(C(=O)O)N)O\"},\n",
    "    {\"name\": \"Threonine\", \"single_letter\": \"T\", \"three_letter\": \"Thr\", \"smiles\": \"CC(C(C)O)C(=O)O\"},\n",
    "    {\"name\": \"Tryptophan\", \"single_letter\": \"W\", \"three_letter\": \"Trp\", \"smiles\": \"c1ccc2c(c1)c(c[nH]2)CC(C(=O)O)N\"},\n",
    "    {\"name\": \"Tyrosine\", \"single_letter\": \"Y\", \"three_letter\": \"Tyr\", \"smiles\": \"c1cc(ccc1CC(C(=O)O)N)O\"},\n",
    "    {\"name\": \"Valine\", \"single_letter\": \"V\", \"three_letter\": \"Val\", \"smiles\": \"CC(C)C(C(=O)O)N\"}\n",
    "]\n",
    "\n",
    "# Print amino acid details\n",
    "for amino_acid in amino_acids:\n",
    "    print(f\"Name: {amino_acid['name']}\")\n",
    "    print(f\"Single-letter code: {amino_acid['single_letter']}\")\n",
    "    print(f\"Three-letter code: {amino_acid['three_letter']}\")\n",
    "    print(f\"SMILES structure: {amino_acid['smiles']}\")\n",
    "    print()\n"
   ]
  },
  {
   "cell_type": "code",
   "execution_count": null,
   "id": "46e18ace-159b-4a3c-8e9a-3e3c7b14d107",
   "metadata": {},
   "outputs": [],
   "source": [
    "import streamlit as st\n",
    "import py3Dmol\n",
    "from rdkit import Chem\n",
    "from rdkit.Chem import AllChem\n",
    "\n",
    "def generate_3D(smiles):\n",
    "    mol = Chem.MolFromSmiles(smiles)\n",
    "    if mol is None:\n",
    "        return None\n",
    "    mol = Chem.AddHs(mol)\n",
    "    params = AllChem.ETKDGv3()\n",
    "    params.randomSeed = 42\n",
    "    AllChem.EmbedMolecule(mol, params)\n",
    "    molstring = Chem.MolToMolBlock(mol)\n",
    "    return molstring\n",
    "\n",
    "def display_molecule_3D(mol_block):\n",
    "    viewer = py3Dmol.view(width=400, height=400)\n",
    "    viewer.addModel(mol_block, format='mol')\n",
    "    viewer.setStyle({'stick': {}})\n",
    "    viewer.zoomTo()\n",
    "    return viewer\n",
    "\n",
    "st.title(\"Représentation en 3D d'un acide aminé\")\n",
    "\n",
    "smiles_input = st.text_input(\"Entrez le SMILES de l'acide aminé :\")\n",
    "\n",
    "if smiles_input:\n",
    "    molblock = generate_3D(smiles_input)\n",
    "    if molblock:\n",
    "        st.subheader(\"Représentation 3D de l'acide aminé:\")\n",
    "        viewer = display_molecule_3D(molblock)\n",
    "        st.write(viewer)\n",
    "    else:\n",
    "        st.error(\"Impossible de générer les coordonnées 3D pour le SMILES spécifié.\")\n"
   ]
  },
  {
   "cell_type": "markdown",
   "id": "4a00937f-e730-468d-a1da-6d96b4ac575d",
   "metadata": {},
   "source": [
    "## Amino Acid Composition Analysis\n",
    "\n",
    "Now let's analyze the amino acid composition of the proteins."
   ]
  },
  {
   "cell_type": "code",
   "execution_count": null,
   "id": "4150ba21-234c-4e25-acfc-ba1fcc84686b",
   "metadata": {},
   "outputs": [],
   "source": [
    "\n",
    "from functions import count_amino_acids\n",
    "counts_1rsprotein = count_amino_acids(sequence1)\n",
    "counts_2ndprotein = count_amino_acids(sequence2)\n",
    "print(f\"Séquence : {sequence1}\")\n",
    "print(\"Number of hydrophobic amino acids :\", counts_1rsprotein[\"hydrophobes\"])\n",
    "print(\"Number of hydrophilic amino acids  :\", counts_1rsprotein[\"hydrophiles\"])\n",
    "print(\"Number of acidic amino acids :\", counts_1rsprotein[\"acides\"])\n",
    "print(\"Number of basic amino acids  :\", counts_1rsprotein[\"basiques\"])\n"
   ]
  },
  {
   "cell_type": "markdown",
   "id": "472720e5-3d94-4a4c-ba2a-b85cc292877e",
   "metadata": {},
   "source": [
    "# ProtaVision: Challenges and Features - General Remarks\n",
    "\n",
    "## Introduction\n",
    "\n",
    "Protavision is an interactive Jupyter Notebook dedicated to exploring protein structures and functions!\n",
    "\n",
    "## Main Features\n",
    "\n",
    "- **Sequence Alignment**: Efficiently compare two protein sequences to identify matching and non-matching amino acids.\n",
    "- **Amino Acid Analysis**: Analyze properties of amino acids, such as molecular weight and composition.\n",
    "- **Substitutions Conservatrices**: Explore amino acid substitutions that preserve biochemical properties.\n",
    "- **Protein Visualization**: Visualize protein structures in 3D using PDB codes.\n",
    "- **Gap Method for Sequence Alignment**: Implement a gap-based sequence alignment method.\n",
    "\n",
    "## Challenges Encountered\n",
    "\n",
    "1. **PDB Retrieval**: Finding PDB codes for protein visualization posed a challenge, especially for proteins with no assigned PDB codes.\n",
    "2. **Sequence Alignment**: Writing code for sequence alignment, especially implementing the Needleman-Wunsch algorithm, required careful consideration and debugging.\n",
    "3. **Package Compatibility**: Ensuring compatibility between different Python packages used in the notebook, such as Biopython and py3Dmol, sometimes resulted in compatibility issues.\n",
    "4. **User Input Handling**: Handling user input for gap-based sequence alignment involved validating inputs and error handling to ensure smooth execution.\n",
    "\n",
    "## Tools Used\n",
    "\n",
    "- **Biopython**: Utilized for retrieving protein sequences from the UniProt database and performing sequence alignment.\n",
    "- **py3Dmol**: Used for visualizing protein structures in 3D within Jupyter Notebook.\n",
    "- **Jupyter Notebook**: Provided an interactive environment for running code, visualizing data, and documenting the analysis process.\n",
    "\n",
    "## Conclusion\n",
    "\n",
    "ProtaVision offers a comprehensive toolkit for exploring protein structures and functions, overcoming challenges in sequence alignment, visualization, and analysis. With its intuitive interface and powerful functionalities, it serves as a valuable resource for bioinformatics enthusiasts and researchers alike.\n"
   ]
  },
  {
   "cell_type": "code",
   "execution_count": null,
   "id": "491bdba2-ca9e-4b88-9732-5decfb3e373b",
   "metadata": {},
   "outputs": [],
   "source": []
  }
 ],
 "metadata": {
  "kernelspec": {
   "display_name": "Python 3 (ipykernel)",
   "language": "python",
   "name": "python3"
  },
  "language_info": {
   "codemirror_mode": {
    "name": "ipython",
    "version": 3
   },
   "file_extension": ".py",
   "mimetype": "text/x-python",
   "name": "python",
   "nbconvert_exporter": "python",
   "pygments_lexer": "ipython3",
   "version": "3.10.14"
  }
 },
 "nbformat": 4,
 "nbformat_minor": 5
}
