{
 "cells": [
  {
   "cell_type": "markdown",
   "id": "e7fd421d-6b4e-4156-aca3-8ed76e343043",
   "metadata": {},
   "source": [
    "# Welcome to ProtaVision: Delving into Protein Structures and Functions🧬🔬🧪🧫🦠\n",
    "---\n",
    "Welcome to this interactive Jupyter Notebook! 🎉\n",
    "\n",
    "**About This Notebook:**\n",
    "This notebook is dedicated to facilitating sequence alignment, a fundamental principle in bioinformatics. Using a custom package, you can input two proteins from a dictionary and efficiently determine the number of matching amino acids, as well as identify the indices of those that do not match. Whether you're delving into bioinformatics for the first time or seeking a streamlined tool for protein analysis, this notebook provides a comprehensive solution.\n",
    "\n",
    "**Getting Started:**\n",
    "To get started, simply navigate through the sections using the table of contents provided on the ReadMe. Each section is packed with explanations, code snippets, and visualizations to help you grasp concepts effectively. \n",
    "NOTE: For this package, we use the biopython package. One can do this by typing \"pip install biopython\". Sometimes you can still encouter an error, in this case please use this piece of code before executing the code: !pip install biopython. The error occurs because it's possible that Jupyter Notebook is not using the same Python environment where Biopython is installed. Jupyter Notebook can use different Python environments, and sometimes the packages installed in one environment might not be available in another.\n",
    "\n",
    "**How to Use:**\n",
    "Feel free to experiment with the code! Modify variables, tweak parameters, and run cells to see how different changes affect the outcomes. Don't hesitate to ask questions or seek clarification whenever needed.\n",
    "\n",
    "**Additional Resources:**\n",
    "If you're new to Jupyter Notebooks or need a refresher, check out the [Jupyter Notebook Documentation](https://jupyter-notebook.readthedocs.io/en/stable/) for comprehensive guidance.\n",
    "\n",
    "**Questions?**\n",
    "If you have any questions, please contact nichelle.sequeira@epfl.ch or aurelie.masson@epfl.ch\n",
    "\n",
    "**Let's Dive In!**\n",
    "Start exploring and discovering insights within this notebook. Happy coding! 🚀"
   ]
  },
  {
   "cell_type": "markdown",
   "id": "97b1c624-48c2-4a01-9ac3-1e127a322846",
   "metadata": {},
   "source": [
    "🔧 First, let's import everything! \n",
    "---\n",
    "Please run the following code. Here, we are going to import all dependencies and functions to ensure the code runs properly."
   ]
  },
  {
   "cell_type": "code",
   "execution_count": 1,
   "id": "dd6dafe5-0218-405a-9e74-ad7cc6e7867b",
   "metadata": {},
   "outputs": [
    {
     "name": "stderr",
     "output_type": "stream",
     "text": [
      "C:\\Users\\aurel\\miniconda3\\envs\\ProtaVision\\lib\\site-packages\\Bio\\pairwise2.py:278: BiopythonDeprecationWarning: Bio.pairwise2 has been deprecated, and we intend to remove it in a future release of Biopython. As an alternative, please consider using Bio.Align.PairwiseAligner as a replacement, and contact the Biopython developers if you still need the Bio.pairwise2 module.\n",
      "  warnings.warn(\n"
     ]
    }
   ],
   "source": [
    "from Bio import SeqIO\n",
    "from Bio import ExPASy\n",
    "from protavision import functions\n",
    "import pandas as pd\n",
    "from Bio.SeqUtils.ProtParam import ProteinAnalysis\n",
    "import matplotlib.pyplot as plt\n",
    "import py3Dmol \n",
    "from Bio import pairwise2\n",
    "import os\n",
    "import ast"
   ]
  },
  {
   "cell_type": "markdown",
   "id": "59926b16-ce15-4a66-9761-9e5757a5a0b6",
   "metadata": {},
   "source": [
    "🔥Let's Get Started! \n",
    "---\n",
    "Using the function, **get_protein_sequence(protein_name1)**, users input the name of a protein and fetch its sequence from the Swiss-Prot database using the Biopython library.\n",
    "\n",
    "Using a Python script designed to fetch the sequence of a protein from the **UniProt** database using its name (e.g., \"MYG_HUMAN\"). \n",
    "\n",
    "We will start by importing the required libraries; Bio.SeqIO (a module from Biopython used for reading and writing sequence files in different formats), and Bio.ExPASy (a module that provides access to tools and databases hosted on the ExPASy server, including the Swiss-Prot database). \n",
    "\n",
    "### Example Usage📚\n",
    "If you enter MYG_HUMAN as an input, you should get the following output:\n",
    "- This is the sequence of your first protein: MGLSDGEWQLVLNVWGKVEADIPGHGQEVLIRLFKGHPETLEKFDKFKHLKSEDEMKASEDLKKHGATVLTALGGILKKKGHHEAEIKPLAQSHATKHKIPVKYLEFISECIIQVLQSKHPGDFGADAQGAMNKALELFRKDMASNYKELGFQG\n"
   ]
  },
  {
   "cell_type": "code",
   "execution_count": 2,
   "id": "61abf9e8-e71c-41d7-9555-3081ce2fd907",
   "metadata": {},
   "outputs": [
    {
     "name": "stdin",
     "output_type": "stream",
     "text": [
      "Please enter the name of the first protein (example MYG_HUMAN):  MYG_HUMAN\n"
     ]
    },
    {
     "name": "stdout",
     "output_type": "stream",
     "text": [
      "This is the sequence of your first protein: MGLSDGEWQLVLNVWGKVEADIPGHGQEVLIRLFKGHPETLEKFDKFKHLKSEDEMKASEDLKKHGATVLTALGGILKKKGHHEAEIKPLAQSHATKHKIPVKYLEFISECIIQVLQSKHPGDFGADAQGAMNKALELFRKDMASNYKELGFQG\n"
     ]
    }
   ],
   "source": [
    "protein_name1 = input(\"Please enter the name of the first protein (example MYG_HUMAN): \")\n",
    "\n",
    "# Call the function using the module name\n",
    "sequence1 = functions.get_protein_sequence(protein_name1)\n",
    "print(f\"This is the sequence of your first protein: {sequence1}\")"
   ]
  },
  {
   "cell_type": "code",
   "execution_count": 3,
   "id": "d4e6e966-434b-4bae-ac0e-5dbb63a20998",
   "metadata": {},
   "outputs": [
    {
     "name": "stdin",
     "output_type": "stream",
     "text": [
      "Please enter the name of the second protein (example MYG_MOUSE):  MYG_MOUSE\n"
     ]
    },
    {
     "name": "stdout",
     "output_type": "stream",
     "text": [
      "This is the sequence of your second protein; MGLSDGEWQLVLNVWGKVEADLAGHGQEVLIGLFKTHPETLDKFDKFKNLKSEEDMKGSEDLKKHGCTVLTALGTILKKKGQHAAEIQPLAQSHATKHKIPVKYLEFISEIIIEVLKKRHSGDFGADAQGAMSKALELFRNDIAAKYKELGFQG\n"
     ]
    }
   ],
   "source": [
    "protein_name2 = input(\"Please enter the name of the second protein (example MYG_MOUSE): \")\n",
    "sequence2 = functions.get_protein_sequence(protein_name2)\n",
    "print(f\"This is the sequence of your second protein; {sequence2}\")"
   ]
  },
  {
   "cell_type": "markdown",
   "id": "1d8f0ddc-8435-4798-b0bd-1a0c15df57f9",
   "metadata": {},
   "source": [
    "🚀Next Step: Let's find the differences between the two sequences!🧬\n",
    "---\n",
    "This code snippet compares two sequences (sequence1 and sequence2) that were defined character by character to find their differences and displays the index, and the respective amino acids from each sequence at that index. This code can be used for comparing sequences, such as DNA or protein sequences, and identifying variations or mutations between them.\n",
    "\n",
    "### Expected output📚\n",
    "You should obtain an output giving:\n",
    "- The number of amino acids that don't match\n",
    "- The number of amino acids that do match\n",
    "- A table showing the index of the amino acids that don't match as well as the amino acids of both sequences\n"
   ]
  },
  {
   "cell_type": "code",
   "execution_count": null,
   "id": "f9de6484-0770-4d6a-ba74-103a4c6cbb96",
   "metadata": {},
   "outputs": [],
   "source": [
    "df = functions.compare_sequences(sequence1, sequence2)\n",
    "df"
   ]
  },
  {
   "cell_type": "markdown",
   "id": "c43167a1-aed0-4243-8f64-241690c566b4",
   "metadata": {},
   "source": [
    "## 💻Amino Acid Analysis and Structure Visualization\n",
    "\n",
    "In this section, we will analyze the properties and visualize the structures of amino acids. Amino acids are the building blocks of proteins, each with unique chemical properties and structures. We will explore various characteristics such as molecular weight, hydrophobicity, and amino acid composition, as well as visualize their structures to gain insights into their functions and interactions within proteins. The proportion of each amino acid of each sequence will be visualise with a bar diagram with the help of the function proportion_amino_acid.\n",
    "\n",
    "Let's start by seeing a few properties\n",
    "\n",
    "### Expected Output📚\n",
    "You should be able to see the molecular weight of each amino acid sequence as well as 2 graphs showing the proportions of each amino acid in each sequences. \n",
    "\n",
    "##### Example Usage for the molecular weight:\n",
    "- The molecular weight of your first amino acid sequence is: 17183.597 g/mol\n",
    "- The molecular weight of your second amino acid sequence is: 17069.467 g/mol"
   ]
  },
  {
   "cell_type": "code",
   "execution_count": null,
   "id": "57bf09d5-dd16-4de3-9f9f-eb817900eeb6",
   "metadata": {},
   "outputs": [],
   "source": [
    "analyzed_seq1 = ProteinAnalysis(str(sequence1))\n",
    "analyzed_seq2 = ProteinAnalysis(str(sequence2))\n",
    "\n",
    "molecular_weight1 = round(analyzed_seq1.molecular_weight(), 3)\n",
    "molecular_weight2 = round(analyzed_seq2.molecular_weight(), 3)\n",
    "\n",
    "\n",
    "# Print the molecular weight using an f-string\n",
    "\n",
    "print(f\"The molecular weight of your first amino acid sequence is: {molecular_weight1} g/mol\")\n",
    "print()\n",
    "print(f\"The molecular weight of your second amino acid sequence is: {molecular_weight2} g/mol\")"
   ]
  },
  {
   "cell_type": "code",
   "execution_count": null,
   "id": "2e742af2-3dff-48c4-978d-8ed72c93b490",
   "metadata": {},
   "outputs": [],
   "source": [
    "functions.proportion_amino_acid(sequence1, sequence2) #this shows a bar chart of the various amino acids"
   ]
  },
  {
   "cell_type": "markdown",
   "id": "ec8266bb-0cd5-4b5d-bdb6-bc89edc80765",
   "metadata": {},
   "source": [
    "## 📝Substitutions Conservatrices in Biochemistry Amino Acids\n",
    "\n",
    "In biochemistry, substitutions conservatrices refer to amino acid substitutions in protein sequences that preserve the physicochemical properties or functional roles of the amino acids involved. These substitutions maintain the structure and function of the protein despite alterations in the amino acid sequence.\n",
    "\n",
    "### Characteristics:\n",
    "- **Conservation of Function**: Preserves biochemical properties or functional roles.\n",
    "- **Conservation of Structure**: Maintains structural integrity, especially in critical regions.\n",
    "- **Functional Redundancy**: Utilizes multiple amino acids with similar roles.\n",
    "\n",
    "### Examples📚:\n",
    "- Aromatic Residues: Phenylalanine, tyrosine, and tryptophan.\n",
    "- Hydrophobic Residues: Leucine, isoleucine, and valine.\n",
    "- Charge Conservation: Lysine and arginine, glutamate and aspartate.\n",
    "\n",
    "### Importance:\n",
    "Understanding substitutions conservatrices predicts the effects of mutations on protein structure and function, aiding in informed hypotheses about protein behavior.\n",
    "\n",
    "**Please make sure that your amino acid sequences are the same length to use this code, as without the same length, this code has no sense**"
   ]
  },
  {
   "cell_type": "code",
   "execution_count": null,
   "id": "b0babc94-7493-4b29-b215-a128353aae16",
   "metadata": {},
   "outputs": [],
   "source": [
    "num_conserv_substitutions = functions.count_conservative_substitutions(sequence1, sequence2)\n",
    "\n",
    "print(\"The number of conservative substitutions :\", num_conserv_substitutions)"
   ]
  },
  {
   "cell_type": "markdown",
   "id": "824dffc8-4d4f-4d3b-a463-2cdf8fce5af7",
   "metadata": {},
   "source": [
    "## 🎉Protein Visualization\n",
    "\n",
    "Protein visualization is an essential aspect of structural biology and bioinformatics, allowing researchers to understand the three-dimensional structure and function of proteins. Interactive molecular visualization tools provide powerful capabilities for visualizing and analyzing protein structures directly within Jupyter Notebooks. Before to visualize the protein in 3D, we need to get the PDB name because we use a python package name py3Dmol that needs the PDB name to visualize the protein in 3D. The first part of this section consist to convert the unitprot name (as an example of form MYG_HUMAN) into PDB name (example : 3RGK).\n",
    "\n",
    "### Expected Output📚\n",
    "You should be able to see the protein structures in 3D and be able to zoom in/out, and turn the protein around.\n"
   ]
  },
  {
   "cell_type": "code",
   "execution_count": null,
   "id": "60c96a3f-3f5d-4a92-9919-c23901a5768e",
   "metadata": {},
   "outputs": [],
   "source": [
    "pdb_id1 = functions.uniprot_to_pdb(protein_name1)\n",
    "if pdb_id1:\n",
    "    print(f\"The PDB Code associated to the first protein {protein_name1} is : {pdb_id1}\")\n",
    "else:\n",
    "    print(f\"No PDB Code is associated to this first protein {protein_name1}\")\n",
    "\n",
    "pdb_id2 = functions.uniprot_to_pdb(protein_name2)\n",
    "if pdb_id2:\n",
    "    print(f\"The PDB code of the second protein {protein_name2} is : {pdb_id2}\")\n",
    "else:\n",
    "    print(f\"No PDB code is associated to the second protein {protein_name2}\")"
   ]
  },
  {
   "cell_type": "code",
   "execution_count": null,
   "id": "bb22c41e-79f7-44f7-9a5f-754330fd613f",
   "metadata": {},
   "outputs": [],
   "source": [
    "view = py3Dmol.view(query=pdb_id1)\n",
    "\n",
    "view.setStyle({'cartoon':{'color':'spectrum'}})\n",
    "\n",
    "view"
   ]
  },
  {
   "cell_type": "code",
   "execution_count": null,
   "id": "afa38304-6c1e-4fbb-8f2d-bd8cb4bb7f3d",
   "metadata": {},
   "outputs": [],
   "source": [
    "import py3Dmol #install package py3Dmol is required\n",
    "\n",
    "view = py3Dmol.view(query=pdb_id2)\n",
    "\n",
    "view.setStyle({'cartoon':{'color':'spectrum'}})\n",
    "\n",
    "view\n",
    "\n",
    "#if nothing appears, this is normal in case there is not PDB name for your protein\n"
   ]
  },
  {
   "cell_type": "markdown",
   "id": "532b5a11-18cc-4ce6-97b8-d7ee3687b457",
   "metadata": {},
   "source": [
    "## 💡Gap Method for Sequence Alignment\n",
    "\n",
    "Now let's move onto using the Gap Method. This code implements a simple sequence alignment method using a gap. Sequence alignment is a fundamental task in bioinformatics used to identify regions of similarity between DNA, RNA, or protein sequences.\n",
    "\n",
    "### Explanation:\n",
    "This code is useful for aligning and comparing sequences to identify similarities and differences between them. The Needleman-Wunsch algorithm ensures optimal global alignment, considering all possible alignments to maximize similarity.\n",
    "\n",
    "### What is the Needleman-Wunsch algorithm?\n",
    "The Needleman-Wunsch algorithm is a dynamic programming algorithm used for global pairwise sequence alignment. It compares two sequences by optimizing a scoring scheme that rewards matches and penalizes mismatches and gaps. By considering all possible alignments and choosing the one with the highest score, it identifies the optimal alignment, providing insights into the evolutionary relationships and functional similarities between the sequences.\n",
    "\n",
    "### Example Output📚\n",
    "For sequences defined as: \n",
    "- sequence1 = MYG_HUMAN\n",
    "- sequence2 = MYG_MOUSE\n",
    "\n",
    "One would obtain the following as output:\n",
    "  - Sequence 1 aligned: MGLSDGEWQLVLNVWGKVEADIP--GHGQEVLIR-LFKG-HPETLE-KFDKFKH-LKSEDE-MKA-SEDLKKHGA-TVLTALGG-ILKKKGH-HEA-EIK-PLAQSHATKHKIPVKYLEFISECIIQ--VLQSK--HP-GDFGADAQGAMN-KALELFRK-DM-ASN--YKELGFQG\n",
    "  - Sequence 2 aligned: MGLSDGEWQLVLNVWGKVEAD--LAGHGQEVLI-GLFK-THPETL-DKFDKFK-NLKSE-EDMK-GSEDLKKHG-CTVLTAL-GTILKKKG-QH-AAEI-QPLAQSHATKHKIPVKYLEFISE-II-IEVL--KKRH-SGDFGADAQGAM-SKALELFR-ND-IA--AKYKELGFQG\n",
    "  - Number of matches: 131\n",
    "  - Score: 735\n",
    "  - Number of gaps in Sequence 1: 23\n",
    "  - Number of gaps in Sequence 2: 23"
   ]
  },
  {
   "cell_type": "code",
   "execution_count": null,
   "id": "3384e6a9-cdfa-428e-b86e-30f8003cee51",
   "metadata": {},
   "outputs": [],
   "source": [
    "sequence1_aligned, sequence2_aligned, begin, end, num_matches = functions.calculate_alignment_details(sequence1, sequence2)\n",
    "num_gaps_sequence1 = functions.calculate_number_of_gaps(sequence1_aligned, sequence1)\n",
    "num_gaps_sequence2 = functions.calculate_number_of_gaps(sequence2_aligned, sequence2)\n",
    "score = 10*num_matches - 25*num_gaps_sequence1\n",
    "\n",
    "print(\"Sequence 1 aligned:\", sequence1_aligned)\n",
    "print(\"Sequence 2 aligned:\", sequence2_aligned)\n",
    "print(\"Number of matches:\", num_matches)\n",
    "print(\"Score:\", score)\n",
    "print(\"Number of gaps in Sequence 1:\", num_gaps_sequence1)\n",
    "print(\"Number of gaps in Sequence 2:\", num_gaps_sequence2)\n"
   ]
  },
  {
   "cell_type": "markdown",
   "id": "019a57f1-f8a8-4f58-925c-92f4415bdbdf",
   "metadata": {},
   "source": [
    "## 🧠 Gap Method for Sequence Alignment - Your Turn!\n",
    "\n",
    "Now it's your turn to determine what gap size and where you want to add your gap!"
   ]
  },
  {
   "cell_type": "code",
   "execution_count": null,
   "id": "a177983f-13b9-4298-8f45-5ee3156744b2",
   "metadata": {},
   "outputs": [],
   "source": [
    "gap_length = int(input(\"Enter the length of the gap: \"))\n",
    "position = int(input(\"Enter the position to apply the gap: \"))\n",
    "\n",
    "num_matches = functions.count_matches_with_gap(sequence1, sequence2, gap_length, position)\n",
    "print(\"Number of matches found with the gap method is:\", num_matches)"
   ]
  },
  {
   "cell_type": "markdown",
   "id": "4a00937f-e730-468d-a1da-6d96b4ac575d",
   "metadata": {},
   "source": [
    "## 🧩 Amino Acid Composition Analysis\n",
    "\n",
    "Now let's analyze the amino acid composition of the proteins."
   ]
  },
  {
   "cell_type": "markdown",
   "id": "05e67e12-c8d9-41fa-8c78-1ae1dc028961",
   "metadata": {},
   "source": [
    "### First, let's visualise the amino acids\n",
    "\n",
    "\n",
    "This code is designed to read amino acid data from a text file and print out the details of each amino acid, including its name, single-letter code, three-letter code, and SMILES structure. The following steps outline the functionality of the code:\n",
    "\n",
    "1. **Import Required Libraries**: The code uses the `os` and `ast` libraries. The `os` library is used for file path manipulations, and the `ast` library is used to safely evaluate a string containing a Python literal.\n",
    "\n",
    "2. **Determine the Path to the Data File**: \n",
    "    - The current directory of the notebook is obtained using `os.path.dirname(os.path.abspath('__file__'))`.\n",
    "    - The project root directory is determined by navigating one level up from the current directory.\n",
    "    - The full path to the `aminoacids.txt` file is constructed by joining the project root with the `data` folder and the filename.\n",
    "\n",
    "3. **Read the Amino Acid Data from the File**:\n",
    "    - The file `aminoacids.txt` is opened and its content is read into a string variable.\n",
    "    - The data string is processed to extract the list part if it includes a variable assignment.\n",
    "\n",
    "4. **Convert the String Data to a Python List**:\n",
    "    - The `ast.literal_eval` function is used to safely evaluate the string containing the list of amino acids and convert it into a Python list of dictionaries.\n",
    "\n",
    "5. **Print Amino Acid Details**:\n",
    "    - The code iterates over the list of amino acids.\n",
    "    - For each amino acid, it prints its name, single-letter code, three-letter code, and SMILES structure in a formatted manner.\n",
    "\n",
    "This code is useful for processing and displaying biochemical data related to amino acids, making it easier to analyze and work with this information in a structured way.\n"
   ]
  },
  {
   "cell_type": "code",
   "execution_count": null,
   "id": "39418012-6296-477e-a0c4-8b78a2e83b27",
   "metadata": {},
   "outputs": [],
   "source": [
    "# Determine the path to the aminoacids.txt file\n",
    "current_dir = os.path.dirname(os.path.abspath('__file__'))\n",
    "project_root = os.path.dirname(current_dir)\n",
    "file_path = os.path.join(project_root, 'data', 'aminoacids.txt')\n",
    "\n",
    "# Read the amino acids data from the file\n",
    "with open(file_path, 'r') as file:\n",
    "    data = file.read().strip()\n",
    "    amino_acids = ast.literal_eval(data)\n",
    "\n",
    "# Create a DataFrame\n",
    "df = pd.DataFrame(amino_acids)\n",
    "\n",
    "# Display the DataFrame\n",
    "print(\"Amino Acid Data:\")\n",
    "display(df)"
   ]
  },
  {
   "cell_type": "markdown",
   "id": "6f2efc37-f6e3-420c-aa33-5382880ba7ab",
   "metadata": {},
   "source": [
    "### 🔍 Counting Specific type of Amino Acids in Protein Sequences (hydrophobic, base...)\n",
    "\n",
    "This Jupyter notebook code snippet counts and displays the number of different types of amino acids in given protein sequences. The steps below outline the functionality of the code:\n",
    "\n",
    "1. **Count Amino Acids in Protein Sequences**:\n",
    "    - The `count_amino_acids` function from the `functions` module is used to count the amino acids in the given protein sequences, `sequence1` and `sequence2`.\n",
    "    - The counts for `sequence1` are stored in `counts_1rsprotein`.\n",
    "    - The counts for `sequence2` are stored in `counts_2ndprotein`.\n",
    "\n",
    "2. **Print Amino Acid Counts**:\n",
    "    - The code prints the protein sequence `sequence1`.\n",
    "    - It prints the number of hydrophobic, hydrophilic, acidic, and basic amino acids in `sequence1` using the counts stored in `counts_1rsprotein`.\n",
    "\n",
    "### Example Usage\n",
    "\n",
    "If the sequences and the `count_amino_acids` function are properly defined, running this code will provide a detailed breakdown of the types of amino acids in the protein sequences. This is useful for analyzing the properties of proteins based on their amino acid composition.\n",
    "\n",
    "For a sequence \"MVHLTPEEK\", one would expect; \n",
    "- Number of hydrophobic amino acids: 3\n",
    "- Number of hydrophilic amino acids: 1\n",
    "- Number of acidic amino acids: 2 \n",
    "- Number of basic amino acids: 2"
   ]
  },
  {
   "cell_type": "code",
   "execution_count": 4,
   "id": "2125aec1-31e4-4420-83a1-f2d1896e1526",
   "metadata": {},
   "outputs": [
    {
     "name": "stdout",
     "output_type": "stream",
     "text": [
      "Séquence : MGLSDGEWQLVLNVWGKVEADIPGHGQEVLIRLFKGHPETLEKFDKFKHLKSEDEMKASEDLKKHGATVLTALGGILKKKGHHEAEIKPLAQSHATKHKIPVKYLEFISECIIQVLQSKHPGDFGADAQGAMNKALELFRKDMASNYKELGFQG\n",
      "Number of hydrophobic amino acids : 59\n",
      "Number of hydrophilic amino acids  : 22\n",
      "Number of acidic amino acids : 22\n",
      "Number of basic amino acids  : 31\n"
     ]
    }
   ],
   "source": [
    "counts_1rsprotein = functions.count_amino_acids(sequence1)\n",
    "counts_2ndprotein = functions.count_amino_acids(sequence2)\n",
    "print(f\"Séquence : {sequence1}\")\n",
    "print(\"Number of hydrophobic amino acids :\", counts_1rsprotein[\"hydrophobics\"])\n",
    "print(\"Number of hydrophilic amino acids  :\", counts_1rsprotein[\"hydrophiles\"])\n",
    "print(\"Number of acidic amino acids :\", counts_1rsprotein[\"acids\"])\n",
    "print(\"Number of basic amino acids  :\", counts_1rsprotein[\"bases\"])\n"
   ]
  },
  {
   "cell_type": "markdown",
   "id": "472720e5-3d94-4a4c-ba2a-b85cc292877e",
   "metadata": {},
   "source": [
    "# ProtaVision: Challenges and Features - General Remarks\n",
    "\n",
    "## Introduction\n",
    "\n",
    "Protavision is an interactive Jupyter Notebook dedicated to exploring protein structures and functions!\n",
    "\n",
    "## Main Features\n",
    "\n",
    "- **Sequence Alignment**: Efficiently compare two protein sequences to identify matching and non-matching amino acids.\n",
    "- **Amino Acid Analysis**: Analyze properties of amino acids, such as molecular weight and composition.\n",
    "- **Substitutions Conservatrices**: Explore amino acid substitutions that preserve biochemical properties.\n",
    "- **Protein Visualization**: Visualize protein structures in 3D using PDB codes.\n",
    "- **Gap Method for Sequence Alignment**: Implement a gap-based sequence alignment method.\n",
    "\n",
    "## Challenges Encountered\n",
    "\n",
    "1. **PDB Retrieval**: Finding PDB codes for protein visualization posed a challenge, especially for proteins with no assigned PDB codes.\n",
    "2. **Sequence Alignment**: Writing code for sequence alignment, especially implementing the Needleman-Wunsch algorithm, required careful consideration and debugging.\n",
    "3. **Package Compatibility**: Ensuring compatibility between different Python packages used in the notebook, such as Biopython and py3Dmol, sometimes resulted in compatibility issues.\n",
    "4. **User Input Handling**: Handling user input for gap-based sequence alignment involves validating inputs and error handling to ensure smooth execution.\n",
    "5. **Using GitHub and handling conflicts**: We were having issues working on the notebook together and learning how to use multiple features such as pushing and pulling edits, dealing with environments and packages, and much more.\n",
    "\n",
    "## Tools Used\n",
    "\n",
    "- **Biopython**: Utilized for retrieving protein sequences from the UniProt database and performing sequence alignment.\n",
    "- **py3Dmol**: Used for visualizing protein structures in 3D within Jupyter Notebook.\n",
    "- **Jupyter Notebook**: Provided an interactive environment for running code, visualizing data, and documenting the analysis process.\n",
    "\n",
    "## Conclusion\n",
    "\n",
    "ProtaVision offers a comprehensive toolkit for exploring protein structures and functions, and overcoming challenges in sequence alignment, visualization, and analysis. With its intuitive interface and powerful functionalities, it serves as a valuable resource for bioinformatics enthusiasts and researchers alike.\n"
   ]
  },
  {
   "cell_type": "code",
   "execution_count": null,
   "id": "b6beb9d4-c652-4194-9f01-07829e498e04",
   "metadata": {},
   "outputs": [],
   "source": []
  }
 ],
 "metadata": {
  "kernelspec": {
   "display_name": "Python 3 (ipykernel)",
   "language": "python",
   "name": "python3"
  },
  "language_info": {
   "codemirror_mode": {
    "name": "ipython",
    "version": 3
   },
   "file_extension": ".py",
   "mimetype": "text/x-python",
   "name": "python",
   "nbconvert_exporter": "python",
   "pygments_lexer": "ipython3",
   "version": "3.10.14"
  }
 },
 "nbformat": 4,
 "nbformat_minor": 5
}
