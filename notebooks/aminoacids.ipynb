{
 "cells": [
  {
   "cell_type": "code",
   "execution_count": null,
   "id": "3bc3e74f-d142-4861-abe9-682f87c314af",
   "metadata": {},
   "outputs": [],
   "source": [
    "import os\n",
    "import ast\n",
    "import pandas as pd"
   ]
  },
  {
   "cell_type": "markdown",
   "id": "cb19f3ea-aef3-40c2-b294-ed73074e532c",
   "metadata": {},
   "source": [
    "### Grouping of the different amino acids that can be found in a protein\n",
    "\n",
    "\n",
    "This code is designed to read amino acid data from a text file and print out the details of each amino acid, including its name, single-letter code, three-letter code, and SMILES structure. The following steps outline the functionality of the code:\n",
    "\n",
    "1. **Import Required Libraries**: The code uses the `os` and `ast` libraries. The `os` library is used for file path manipulations, and the `ast` library is used to safely evaluate a string containing a Python literal.\n",
    "\n",
    "2. **Determine the Path to the Data File**: \n",
    "    - The current directory of the notebook is obtained using `os.path.dirname(os.path.abspath('__file__'))`.\n",
    "    - The project root directory is determined by navigating one level up from the current directory.\n",
    "    - The full path to the `aminoacids.txt` file is constructed by joining the project root with the `data` folder and the filename.\n",
    "\n",
    "3. **Read the Amino Acid Data from the File**:\n",
    "    - The file `aminoacids.txt` is opened and its content is read into a string variable.\n",
    "    - The data string is processed to extract the list part if it includes a variable assignment.\n",
    "\n",
    "\n",
    "4. **Convert the String Data to a Python List**:\n",
    "    - The `ast.literal_eval` function is used to safely evaluate the string containing the list of amino acids and convert it into a Python list of dictionaries.\n",
    "  \n",
    "\n",
    "5. **Print Amino Acid Details**:\n",
    "    - The code iterates over the list of amino acids.\n",
    "    - For each amino acid, it prints its name, single-letter code, three-letter code, and SMILES structure in a formatted manner.\n",
    "\n",
    "This code is useful for processing and displaying biochemical data related to amino acids, making it easier to analyze and work with this information in a structured way."
   ]
  },
  {
   "cell_type": "code",
   "execution_count": null,
   "id": "4ff5320c-e9d1-4daa-abb6-0300d1cb1281",
   "metadata": {},
   "outputs": [],
   "source": [
    "# Determine the path to the aminoacids.txt file\n",
    "current_dir = os.path.dirname(os.path.abspath('__file__'))\n",
    "project_root = os.path.dirname(current_dir)\n",
    "file_path = os.path.join(project_root, 'data', 'aminoacids.txt')\n",
    "\n",
    "# Read the amino acids data from the file\n",
    "with open(file_path, 'r') as file:\n",
    "    data = file.read().strip()\n",
    "    amino_acids = ast.literal_eval(data)\n",
    "\n",
    "# Create a DataFrame\n",
    "df = pd.DataFrame(amino_acids)\n",
    "\n",
    "# Display the DataFrame\n",
    "print(\"Amino Acid Data:\")\n",
    "display(df)"
   ]
  }
 ],
 "metadata": {
  "kernelspec": {
   "display_name": "Python 3 (ipykernel)",
   "language": "python",
   "name": "python3"
  },
  "language_info": {
   "codemirror_mode": {
    "name": "ipython",
    "version": 3
   },
   "file_extension": ".py",
   "mimetype": "text/x-python",
   "name": "python",
   "nbconvert_exporter": "python",
   "pygments_lexer": "ipython3",
   "version": "3.10.14"
  }
 },
 "nbformat": 4,
 "nbformat_minor": 5
}
