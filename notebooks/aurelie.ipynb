{
 "cells": [
  {
   "cell_type": "markdown",
   "id": "4b40c9b7-ff42-4221-971d-b5700df80ff2",
   "metadata": {},
   "source": [
    "# Welcome to ProtaVision: Delving into Protein Structures and Functions🧬🔬🧪🧫🦠\n",
    "---\n",
    "Welcome to this interactive Jupyter Notebook! 🎉\n",
    "\n",
    "**About This Notebook:**\n",
    "This notebook is dedicated to facilitating sequence alignment, a fundamental principle in bioinformatics. Using a custom package, you can input two proteins from a dictionary and efficiently determine the number of matching amino acids, as well as identify the indices of those that do not match. Whether you're delving into bioinformatics for the first time or seeking a streamlined tool for protein analysis, this notebook provides a comprehensive solution.\n",
    "\n",
    "**Getting Started:**\n",
    "To get started, simply navigate through the sections using the table of contents provided on the ReadMe. Each section is packed with explanations, code snippets, and visualizations to help you grasp concepts effectively. \n",
    "\n",
    "**How to Use:**\n",
    "Feel free to experiment with the code! Modify variables, tweak parameters, and run cells to see how different changes affect the outcomes. Don't hesitate to ask questions or seek clarification whenever needed.\n",
    "\n",
    "**Additional Resources:**\n",
    "If you're new to Jupyter Notebooks or need a refresher, check out the [Jupyter Notebook Documentation](https://jupyter-notebook.readthedocs.io/en/stable/) for comprehensive guidance.\n",
    "\n",
    "**Questions?**\n",
    "If you have any questions, please contact nichelle.sequeira@epfl.ch or aurelie.masson@epfl.ch\n",
    "\n",
    "**Let's Dive In!**\n",
    "Start exploring and discovering insights within this notebook. Happy coding! 🚀\n"
   ]
  },
  {
   "cell_type": "markdown",
   "id": "aeef4903-46f2-4c02-9256-e5193b50e6d9",
   "metadata": {},
   "source": [
    "🔧 First, let's import everything! \n",
    "---\n",
    "Please run the following code. Here, we are going to import all dependencies and all the functions to ensure the code runs properly. If you go to functions python file, you can se that SeqIO and ExPASy are imported from the biopython package. **Bio.SeqIO** is a module from Biopython used for reading and writing sequence files in different formats, and **Bio.ExPASy**, a module that provides access to tools and databases hosted on the ExPASy server, including the Swiss-Prot database.\n"
   ]
  },
  {
   "cell_type": "code",
   "execution_count": 1,
   "id": "ab28462f-8eb9-4f04-8e32-e5218aea2c13",
   "metadata": {},
   "outputs": [
    {
     "name": "stderr",
     "output_type": "stream",
     "text": [
      "C:\\Users\\aurel\\miniconda3\\envs\\ProtaVision\\lib\\site-packages\\Bio\\pairwise2.py:278: BiopythonDeprecationWarning: Bio.pairwise2 has been deprecated, and we intend to remove it in a future release of Biopython. As an alternative, please consider using Bio.Align.PairwiseAligner as a replacement, and contact the Biopython developers if you still need the Bio.pairwise2 module.\n",
      "  warnings.warn(\n"
     ]
    }
   ],
   "source": [
    "import os\n",
    "import ast\n",
    "import pandas as pd\n",
    "import py3Dmol\n",
    "from Bio.SeqUtils.ProtParam import ProteinAnalysis\n",
    "from protavision.functions import get_protein_sequence, compare_sequences, proportion_amino_acid, count_conservative_substitutions, uniprot_to_pdb, calculate_alignment_details, calculate_number_of_gaps, count_matches_with_gap, count_amino_acids\n"
   ]
  },
  {
   "cell_type": "markdown",
   "id": "678bf7d4-63e0-4a67-98aa-07c940c3aa32",
   "metadata": {},
   "source": [
    "🔥Let's Get Started! \n",
    "---\n",
    "Using the function, **get_protein_sequence(protein_name)**, users input the name **UniProt** of a protein  and fetch its sequence from the Swiss-Prot database using the Biopython library.\n",
    "\n",
    "Using a Python script designed to fetch the sequence of a protein from the **UniProt** database using its name (e.g., \"MYG_HUMAN\").  \n",
    "\n",
    "### Example Usage📚\n",
    "If you enter MYG_HUMAN as an input, you should get the following output:\n",
    "- This is the sequence of your first protein: MGLSDGEWQLVLNVWGKVEADIPGHGQEVLIRLFKGHPETLEKFDKFKHLKSEDEMKASEDLKKHGATVLTALGGILKKKGHHEAEIKPLAQSHATKHKIPVKYLEFISECIIQVLQSKHPGDFGADAQGAMNKALELFRKDMASNYKELGFQG\n"
   ]
  },
  {
   "cell_type": "code",
   "execution_count": 3,
   "id": "4a80747d-c092-466e-8c38-dc4d660c870f",
   "metadata": {},
   "outputs": [
    {
     "name": "stdin",
     "output_type": "stream",
     "text": [
      "Please enter the name of the first protein (example MYG_HUMAN):  MYG_HUMAN\n"
     ]
    },
    {
     "name": "stdout",
     "output_type": "stream",
     "text": [
      "This is the sequence of your first protein: MGLSDGEWQLVLNVWGKVEADIPGHGQEVLIRLFKGHPETLEKFDKFKHLKSEDEMKASEDLKKHGATVLTALGGILKKKGHHEAEIKPLAQSHATKHKIPVKYLEFISECIIQVLQSKHPGDFGADAQGAMNKALELFRKDMASNYKELGFQG\n"
     ]
    }
   ],
   "source": [
    "protein_name1 = input(\"Please enter the name of the first protein (example MYG_HUMAN): \") \n",
    "sequence1 = get_protein_sequence(protein_name1) \n",
    "print(f\"This is the sequence of your first protein: {sequence1}\")\n"
   ]
  },
  {
   "cell_type": "code",
   "execution_count": 4,
   "id": "e64b4794-0396-4734-9fed-2b53fe729697",
   "metadata": {},
   "outputs": [
    {
     "name": "stdin",
     "output_type": "stream",
     "text": [
      "Please enter the name of the second protein (example MYG_MOUSE):  MYG_MOUSE\n"
     ]
    },
    {
     "name": "stdout",
     "output_type": "stream",
     "text": [
      "This is the sequence of your second protein: MGLSDGEWQLVLNVWGKVEADLAGHGQEVLIGLFKTHPETLDKFDKFKNLKSEEDMKGSEDLKKHGCTVLTALGTILKKKGQHAAEIQPLAQSHATKHKIPVKYLEFISEIIIEVLKKRHSGDFGADAQGAMSKALELFRNDIAAKYKELGFQG\n"
     ]
    }
   ],
   "source": [
    "protein_name2 = input(\"Please enter the name of the second protein (example MYG_MOUSE): \")\n",
    "sequence2 = get_protein_sequence(protein_name2)\n",
    "print(f\"This is the sequence of your second protein: {sequence2}\")\n"
   ]
  },
  {
   "cell_type": "markdown",
   "id": "ef03dbad-25ec-4fc3-8c59-5e8e37a5a009",
   "metadata": {},
   "source": [
    "🚀Next Step: Let's find the differences between the two sequences!🧬\n",
    "---\n",
    "This code snippet compares two sequences (here sequence1 and sequence2) that were defined character by character to find their differences and displays the index, and the respective amino acids from each sequence at that index. This code can be used for comparing sequences, such as DNA or protein sequences, and identifying variations or mutations between them.\n",
    "\n",
    "### Expected output📚\n",
    "You should obtain an output giving:\n",
    "- The number of amino acids that don't match\n",
    "- The number of amino acids that do match\n",
    "- A table showing the index of the amino acids that don't match as well as the amino acids of both sequences\n"
   ]
  },
  {
   "cell_type": "code",
   "execution_count": 6,
   "id": "da691d27-1609-46ee-a4c6-09e0437b6439",
   "metadata": {},
   "outputs": [
    {
     "name": "stdout",
     "output_type": "stream",
     "text": [
      "The total number of amino acids that don't match is: 25\n",
      "The total number of amino acids that match is: 129\n"
     ]
    },
    {
     "data": {
      "text/html": [
       "<div>\n",
       "<style scoped>\n",
       "    .dataframe tbody tr th:only-of-type {\n",
       "        vertical-align: middle;\n",
       "    }\n",
       "\n",
       "    .dataframe tbody tr th {\n",
       "        vertical-align: top;\n",
       "    }\n",
       "\n",
       "    .dataframe thead th {\n",
       "        text-align: right;\n",
       "    }\n",
       "</style>\n",
       "<table border=\"1\" class=\"dataframe\">\n",
       "  <thead>\n",
       "    <tr style=\"text-align: right;\">\n",
       "      <th></th>\n",
       "      <th>Index</th>\n",
       "      <th>Sequence 1</th>\n",
       "      <th>Sequence 2</th>\n",
       "    </tr>\n",
       "  </thead>\n",
       "  <tbody>\n",
       "    <tr>\n",
       "      <th>0</th>\n",
       "      <td>21</td>\n",
       "      <td>I</td>\n",
       "      <td>L</td>\n",
       "    </tr>\n",
       "    <tr>\n",
       "      <th>1</th>\n",
       "      <td>22</td>\n",
       "      <td>P</td>\n",
       "      <td>A</td>\n",
       "    </tr>\n",
       "    <tr>\n",
       "      <th>2</th>\n",
       "      <td>31</td>\n",
       "      <td>R</td>\n",
       "      <td>G</td>\n",
       "    </tr>\n",
       "    <tr>\n",
       "      <th>3</th>\n",
       "      <td>35</td>\n",
       "      <td>G</td>\n",
       "      <td>T</td>\n",
       "    </tr>\n",
       "    <tr>\n",
       "      <th>4</th>\n",
       "      <td>41</td>\n",
       "      <td>E</td>\n",
       "      <td>D</td>\n",
       "    </tr>\n",
       "    <tr>\n",
       "      <th>5</th>\n",
       "      <td>48</td>\n",
       "      <td>H</td>\n",
       "      <td>N</td>\n",
       "    </tr>\n",
       "    <tr>\n",
       "      <th>6</th>\n",
       "      <td>53</td>\n",
       "      <td>D</td>\n",
       "      <td>E</td>\n",
       "    </tr>\n",
       "    <tr>\n",
       "      <th>7</th>\n",
       "      <td>54</td>\n",
       "      <td>E</td>\n",
       "      <td>D</td>\n",
       "    </tr>\n",
       "    <tr>\n",
       "      <th>8</th>\n",
       "      <td>57</td>\n",
       "      <td>A</td>\n",
       "      <td>G</td>\n",
       "    </tr>\n",
       "    <tr>\n",
       "      <th>9</th>\n",
       "      <td>66</td>\n",
       "      <td>A</td>\n",
       "      <td>C</td>\n",
       "    </tr>\n",
       "    <tr>\n",
       "      <th>10</th>\n",
       "      <td>74</td>\n",
       "      <td>G</td>\n",
       "      <td>T</td>\n",
       "    </tr>\n",
       "    <tr>\n",
       "      <th>11</th>\n",
       "      <td>81</td>\n",
       "      <td>H</td>\n",
       "      <td>Q</td>\n",
       "    </tr>\n",
       "    <tr>\n",
       "      <th>12</th>\n",
       "      <td>83</td>\n",
       "      <td>E</td>\n",
       "      <td>A</td>\n",
       "    </tr>\n",
       "    <tr>\n",
       "      <th>13</th>\n",
       "      <td>87</td>\n",
       "      <td>K</td>\n",
       "      <td>Q</td>\n",
       "    </tr>\n",
       "    <tr>\n",
       "      <th>14</th>\n",
       "      <td>110</td>\n",
       "      <td>C</td>\n",
       "      <td>I</td>\n",
       "    </tr>\n",
       "    <tr>\n",
       "      <th>15</th>\n",
       "      <td>113</td>\n",
       "      <td>Q</td>\n",
       "      <td>E</td>\n",
       "    </tr>\n",
       "    <tr>\n",
       "      <th>16</th>\n",
       "      <td>116</td>\n",
       "      <td>Q</td>\n",
       "      <td>K</td>\n",
       "    </tr>\n",
       "    <tr>\n",
       "      <th>17</th>\n",
       "      <td>117</td>\n",
       "      <td>S</td>\n",
       "      <td>K</td>\n",
       "    </tr>\n",
       "    <tr>\n",
       "      <th>18</th>\n",
       "      <td>118</td>\n",
       "      <td>K</td>\n",
       "      <td>R</td>\n",
       "    </tr>\n",
       "    <tr>\n",
       "      <th>19</th>\n",
       "      <td>120</td>\n",
       "      <td>P</td>\n",
       "      <td>S</td>\n",
       "    </tr>\n",
       "    <tr>\n",
       "      <th>20</th>\n",
       "      <td>132</td>\n",
       "      <td>N</td>\n",
       "      <td>S</td>\n",
       "    </tr>\n",
       "    <tr>\n",
       "      <th>21</th>\n",
       "      <td>140</td>\n",
       "      <td>K</td>\n",
       "      <td>N</td>\n",
       "    </tr>\n",
       "    <tr>\n",
       "      <th>22</th>\n",
       "      <td>142</td>\n",
       "      <td>M</td>\n",
       "      <td>I</td>\n",
       "    </tr>\n",
       "    <tr>\n",
       "      <th>23</th>\n",
       "      <td>144</td>\n",
       "      <td>S</td>\n",
       "      <td>A</td>\n",
       "    </tr>\n",
       "    <tr>\n",
       "      <th>24</th>\n",
       "      <td>145</td>\n",
       "      <td>N</td>\n",
       "      <td>K</td>\n",
       "    </tr>\n",
       "  </tbody>\n",
       "</table>\n",
       "</div>"
      ],
      "text/plain": [
       "    Index Sequence 1 Sequence 2\n",
       "0      21          I          L\n",
       "1      22          P          A\n",
       "2      31          R          G\n",
       "3      35          G          T\n",
       "4      41          E          D\n",
       "5      48          H          N\n",
       "6      53          D          E\n",
       "7      54          E          D\n",
       "8      57          A          G\n",
       "9      66          A          C\n",
       "10     74          G          T\n",
       "11     81          H          Q\n",
       "12     83          E          A\n",
       "13     87          K          Q\n",
       "14    110          C          I\n",
       "15    113          Q          E\n",
       "16    116          Q          K\n",
       "17    117          S          K\n",
       "18    118          K          R\n",
       "19    120          P          S\n",
       "20    132          N          S\n",
       "21    140          K          N\n",
       "22    142          M          I\n",
       "23    144          S          A\n",
       "24    145          N          K"
      ]
     },
     "execution_count": 6,
     "metadata": {},
     "output_type": "execute_result"
    }
   ],
   "source": [
    "df = compare_sequences(sequence1, sequence2)\n",
    "df"
   ]
  },
  {
   "cell_type": "markdown",
   "id": "b45fb6c0-5f25-4329-97d6-f90d5f19fabc",
   "metadata": {},
   "source": [
    "## 💻Amino Acid Analysis and Structure Visualization\n",
    "\n",
    "In this section, we will analyze the properties and visualize the structures of amino acids. Amino acids are the building blocks of proteins, each with unique chemical properties and structures. We will explore various characteristics such as molecular weight, hydrophobicity, and amino acid composition, as well as visualize their structures to gain insights into their functions and interactions within proteins. The proportion of each amino acid of each sequence will be visualized with a bar diagram with the help of the function **proportion_amino_acid**.\n",
    "\n",
    "Let's start by seeing a few properties\n",
    "\n",
    "### Molecular weight\n",
    "\n",
    "You should be able to see the molecular weight of each amino acid sequence. To do so, you can see in the functions python file that **ProteinAnalysis** has been imported from Bio.SeqUtils.ProtParam. This is a module of the Biopython library that provides tools for calculating various physico-chemical properties of proteins from their amino acid sequence. This allows us to calculate the molecular weight of proteins.\n",
    "\n",
    "##### Example Usage for the molecular weight:\n",
    "- The molecular weight of your first amino acid sequence is: 17183.597 g/mol\n",
    "- The molecular weight of your second amino acid sequence is: 17069.467 g/mol\n"
   ]
  },
  {
   "cell_type": "code",
   "execution_count": null,
   "id": "2026eed9-8d15-4aed-b80f-e12b837d45fa",
   "metadata": {},
   "outputs": [],
   "source": [
    "analyzed_seq1 = ProteinAnalysis(str(sequence1))\n",
    "analyzed_seq2 = ProteinAnalysis(str(sequence2))\n",
    "\n",
    "molecular_weight1 = round(analyzed_seq1.molecular_weight(), 3)\n",
    "molecular_weight2 = round(analyzed_seq2.molecular_weight(), 3)\n",
    "\n",
    "print(f\"The molecular weight of your first amino acid sequence is: {molecular_weight1} g/mol\")\n",
    "print()\n",
    "print(f\"The molecular weight of your second amino acid sequence is: {molecular_weight2} g/mol\")"
   ]
  },
  {
   "cell_type": "markdown",
   "id": "f7ceaaab-de3e-4cf7-8748-1a960b0dbcbf",
   "metadata": {},
   "source": [
    "### Visualizing proportion of amino acid\n",
    "\n",
    "You should be able to see the proportion of each amino acid in both sequences with a bar chart. To do so, we use the function **proportion_amino_acid** that takes the sequences (sequence1 and sequence2) as inputs, allowing you to visualize the distribution of amino acids.\n"
   ]
  },
  {
   "cell_type": "code",
   "execution_count": 9,
   "id": "f4e82b6e-a25b-4f93-92e1-862cad7d62e8",
   "metadata": {},
   "outputs": [
    {
     "data": {
      "image/png": "[encoded data removed]",
      "text/plain": [
       "<Figure size 1200x600 with 2 Axes>"
      ]
     },
     "metadata": {},
     "output_type": "display_data"
    }
   ],
   "source": [
    "proportion_amino_acid(sequence1, sequence2) "
   ]
  },
  {
   "cell_type": "markdown",
   "id": "7dad88c1-6080-45d3-a4ce-5f28c37e8b7d",
   "metadata": {},
   "source": [
    "## 📝Substitutions Conservatrices in Biochemistry Amino Acids\n",
    "\n",
    "In biochemistry, substitutions conservatrices refer to amino acid substitutions in protein sequences that preserve the physicochemical properties or functional roles of the amino acids involved. These substitutions maintain the structure and function of the protein despite alterations in the amino acid sequence.\n",
    "\n",
    "### Characteristics:\n",
    "- **Conservation of Function**: Preserves biochemical properties or functional roles.\n",
    "- **Conservation of Structure**: Maintains structural integrity, especially in critical regions.\n",
    "- **Functional Redundancy**: Utilizes multiple amino acids with similar roles.\n",
    "\n",
    "### Examples📚:\n",
    "- Aromatic Residues: Phenylalanine, tyrosine, and tryptophan.\n",
    "- Hydrophobic Residues: Leucine, isoleucine, and valine.\n",
    "- Charge Conservation: Lysine and arginine, glutamate and aspartate.\n",
    "\n",
    "### Importance:\n",
    "Understanding substitutions conservatrices predicts the effects of mutations on protein structure and function, aiding in informed hypotheses about protein behavior.\n",
    "\n",
    "**Please make sure that your amino acid sequences are the same length to use this code, as without the same length, this code has no sense**\n",
    "\n",
    "You should be able to get the number of conservative substitutions thanks to the function **count_conservative_substitutions**.\n",
    "\n"
   ]
  },
  {
   "cell_type": "code",
   "execution_count": null,
   "id": "9c6d424c-4645-4e51-b4f0-918ce779097c",
   "metadata": {},
   "outputs": [],
   "source": [
    "num_conserv_substitutions = count_conservative_substitutions(sequence1, sequence2)\n",
    "\n",
    "print(\"The number of conservative substitutions :\", num_conserv_substitutions)"
   ]
  },
  {
   "cell_type": "markdown",
   "id": "4e5488c2-5d20-4d39-9182-8216128c0afa",
   "metadata": {},
   "source": [
    "## 🧩 Amino Acid Composition Analysis\n",
    "\n",
    "Now let's analyze the amino acid composition of the proteins. \n",
    "\n",
    "First, let's analyze the **amino acid composition** 👩🏻‍🔬 of both sequences.\n"
   ]
  },
  {
   "cell_type": "markdown",
   "id": "7a8154b5-0c0a-4f96-82ca-a0986516880e",
   "metadata": {},
   "source": [
    "### 🔍 Counting Specific type of Amino Acids in Protein Sequences (hydrophobic, base...)\n",
    "\n",
    "This Jupyter notebook code snippet counts and displays the number of different types of amino acids in given protein sequences. The steps below outline the functionality of the code:\n",
    "\n",
    "1. **Count Amino Acids in Protein Sequences**:\n",
    "    - The `count_amino_acids` function from the `functions` module is used to count the amino acids in the given protein sequences, `sequence1` and `sequence2`.\n",
    "    - The counts for `sequence1` are stored in `counts_1rsprotein`.\n",
    "    - The counts for `sequence2` are stored in `counts_2ndprotein`.\n",
    "\n",
    "2. **Print Amino Acid Counts**:\n",
    "    - The code prints the protein sequence `sequence1`.\n",
    "    - It prints the number of hydrophobic, hydrophilic, acidic, and basic amino acids in `sequence1` using the counts stored in `counts_1rsprotein`.\n",
    "\n",
    "### Example Usage\n",
    "\n",
    "If the sequences and the `count_amino_acids` function are properly defined, running this code will provide a detailed breakdown of the types of amino acids in the protein sequences. This is useful for analyzing the properties of proteins based on their amino acid composition.\n",
    "\n",
    "For a sequence \"MVHLTPEEK\", one would expect; \n",
    "- Number of hydrophobic amino acids: 3\n",
    "- Number of hydrophilic amino acids: 1\n",
    "- Number of acidic amino acids: 2 \n",
    "- Number of basic amino acids: 2\n"
   ]
  },
  {
   "cell_type": "code",
   "execution_count": null,
   "id": "3ddd4b12-ea3d-4b2e-ab51-78d1723a3f86",
   "metadata": {},
   "outputs": [],
   "source": [
    "counts_1rsprotein = count_amino_acids(sequence1)\n",
    "print(f\"Séquence : {sequence1}\")\n",
    "print(\"Number of hydrophobic amino acids :\", counts_1rsprotein[\"hydrophobics\"])\n",
    "print(\"Number of hydrophilic amino acids  :\", counts_1rsprotein[\"hydrophiles\"])\n",
    "print(\"Number of acidic amino acids :\", counts_1rsprotein[\"acids\"])\n",
    "print(\"Number of basic amino acids  :\", counts_1rsprotein[\"bases\"])\n"
   ]
  },
  {
   "cell_type": "code",
   "execution_count": null,
   "id": "1cd68073-22cf-41d5-9d2f-0bbbf6182f53",
   "metadata": {},
   "outputs": [],
   "source": [
    "counts_2ndprotein = count_amino_acids(sequence2)\n",
    "print(f\"Séquence : {sequence2}\")\n",
    "print(\"Number of hydrophobic amino acids :\", counts_2ndprotein[\"hydrophobics\"])\n",
    "print(\"Number of hydrophilic amino acids  :\", counts_2ndprotein[\"hydrophiles\"])\n",
    "print(\"Number of acidic amino acids :\", counts_2ndprotein[\"acids\"])\n",
    "print(\"Number of basic amino acids  :\", counts_2ndprotein[\"bases\"])\n"
   ]
  },
  {
   "cell_type": "markdown",
   "id": "0dec2dd4-9b99-4546-ad46-2d11998ced26",
   "metadata": {},
   "source": [
    "## 🎉Protein Visualization\n",
    "\n",
    "Protein visualization is an essential aspect of structural biology and bioinformatics, allowing researchers to understand the three-dimensional structure and function of proteins. Interactive molecular visualization tools provide powerful capabilities for visualizing and analyzing protein structures directly within Jupyter Notebooks. Before visualizing the protein in 3D, we need to get the PDB name because we use a Python package named py3Dmol that needs the PDB name to visualize the protein in 3D. The first part of this section consists of converting the UniProt name (as an example in the form of MYG_HUMAN) into the PDB name (example: 3RGK).\n",
    "\n",
    "### Expected Output📚\n",
    "\n",
    "You should be able to see the protein structures in 3D and be able to zoom in/out and turn the protein around. It works by using the function named **unit_prot_to_pdb**. Please note that the code may not display the protein in 3D if it doesn't have a PDB code (this is what happens with the mouse myoglobin protein).\n"
   ]
  },
  {
   "cell_type": "code",
   "execution_count": null,
   "id": "18e49253-ae62-445f-a086-15e7f6fb12e5",
   "metadata": {},
   "outputs": [],
   "source": [
    "pdb_id1 = uniprot_to_pdb(protein_name1)\n",
    "if pdb_id1:\n",
    "    print(f\"The PDB Code associated with the first protein {protein_name1} is: {pdb_id1}\")\n",
    "else:\n",
    "    print(f\"No PDB Code is associated with the first protein {protein_name1}\")\n",
    "\n",
    "pdb_id2 = uniprot_to_pdb(protein_name2)\n",
    "if pdb_id2:\n",
    "    print(f\"The PDB code of the second protein {protein_name2} is: {pdb_id2}\")\n",
    "else:\n",
    "    print(f\"No PDB code is associated with the second protein {protein_name2}\")\n"
   ]
  },
  {
   "cell_type": "code",
   "execution_count": null,
   "id": "dfd15e8d-e71e-4b30-aad1-7aa12a074b7d",
   "metadata": {},
   "outputs": [],
   "source": [
    "view = py3Dmol.view(query=pdb_id1)\n",
    "view.setStyle({'cartoon':{'color':'spectrum'}})\n",
    "view\n"
   ]
  },
  {
   "cell_type": "code",
   "execution_count": null,
   "id": "8e40b94d-5609-48a9-827e-7fdfef92c8b3",
   "metadata": {},
   "outputs": [],
   "source": [
    "view = py3Dmol.view(query=pdb_id2)\n",
    "view.setStyle({'cartoon':{'color':'spectrum'}})\n",
    "view\n"
   ]
  },
  {
   "cell_type": "markdown",
   "id": "c67989b7-02a3-4c99-8879-13f84899b37c",
   "metadata": {},
   "source": [
    "## 💡Gap Method for Sequence Alignment\n",
    "\n",
    "Now let's move onto using the Gap Method. This code implements a simple sequence alignment method using a gap. Sequence alignment is a fundamental task in bioinformatics used to identify regions of similarity between DNA, RNA, or protein sequences.\n",
    "\n",
    "### Explanation:\n",
    "\n",
    "This code is useful for aligning and comparing sequences to identify similarities and differences between them. The Needleman-Wunsch algorithm ensures optimal global alignment, considering all possible alignments to maximize similarity.\n",
    "\n",
    "### What is the Needleman-Wunsch algorithm?\n",
    "\n",
    "The Needleman-Wunsch algorithm is a dynamic programming algorithm used for global pairwise sequence alignment. It compares two sequences by optimizing a scoring scheme that rewards matches and penalizes mismatches and gaps. By considering all possible alignments and choosing the one with the highest score, it identifies the optimal alignment, providing insights into the evolutionary relationships and functional similarities between the sequences.\n",
    "\n",
    "### Example Output📚\n",
    "\n",
    "For sequences defined as:\n",
    "- sequence1 = MYG_HUMAN\n",
    "- sequence2 = MYG_MOUSE\n",
    "\n",
    "One would obtain the following output:\n",
    "  - Sequence 1 aligned: MGLSDGEWQLVLNVWGKVEADIP--GHGQEVLIR-LFKG-HPETLE-KFDKFKH-LKSEDE-MKA-SEDLKKHGA-TVLTALGG-ILKKKGH-HEA-EIK-PLAQSHATKHKIPVKYLEFISECIIQ--VLQSK--HP-GDFGADAQGAMN-KALELFRK-DM-ASN--YKELGFQG\n",
    "  - Sequence 2 aligned: MGLSDGEWQLVLNVWGKVEAD--LAGHGQEVLI-GLFK-THPETL-DKFDKFK-NLKSE-EDMK-GSEDLKKHG-CTVLTAL-GTILKKKG-QH-AAEI-QPLAQSHATKHKIPVKYLEFISE-II-IEVL--KKRH-SGDFGADAQGAM-SKALELFR-ND-IA--AKYKELGFQG\n",
    "  - Number of matches: 131\n",
    "  - Score: 735\n",
    "  - Number of gaps in Sequence 1: 23\n",
    "  - Number of gaps in Sequence 2: 23\n",
    "\n",
    "Thanks to the **calculate_alignement_details** function, this displays the sequences of the two proteins with their gaps. The score is calculated by using the number of gaps of the protein with the function **calculate_number_of_gaps**. You should realize that the number of amino acids that match is bigger than before (example of myoglobin human and mouse: without introduction of gaps, the number of matches was equal to 129 and with gaps is about 131).\n"
   ]
  },
  {
   "cell_type": "code",
   "execution_count": null,
   "id": "17fbca9e-9a88-4113-8b93-6f24a110714f",
   "metadata": {},
   "outputs": [],
   "source": [
    "sequence1_aligned, sequence2_aligned, begin, end, num_matches = calculate_alignment_details(sequence1, sequence2)\n",
    "num_gaps_sequence1 = calculate_number_of_gaps(sequence1_aligned, sequence1)\n",
    "num_gaps_sequence2 = calculate_number_of_gaps(sequence2_aligned, sequence2)\n",
    "score = 10*num_matches - 25*num_gaps_sequence1\n",
    "\n",
    "print(\"Sequence 1 aligned:\", sequence1_aligned)\n",
    "print(\"Sequence 2 aligned:\", sequence2_aligned)\n",
    "print(\"Number of matches:\", num_matches)\n",
    "print(\"Score:\", score)\n",
    "print(\"Number of gaps in Sequence 1:\", num_gaps_sequence1)\n",
    "print(\"Number of gaps in Sequence 2:\", num_gaps_sequence2)\n"
   ]
  },
  {
   "cell_type": "markdown",
   "id": "fcacb40e-f3c3-4050-8d25-0eda80ef3497",
   "metadata": {},
   "source": [
    "## 🧠 Gap Method for Sequence Alignment - Your Turn!\n",
    "\n",
    "Now it's your turn to determine what gap size and where you want to add your gap! You should realize here that it's hard to know where to introduce a gap and the length because it will completely change the match of amino acids.\n",
    "\n",
    "### Example Output📚\n",
    "For sequences defined as: \n",
    "- sequence1 = MYG_HUMAN\n",
    "- sequence2 = MYG_MOUSE\n",
    "\n",
    "if you try :\n",
    "- **gap_length = 2**\n",
    "- **position = 2**\n",
    "you get **num_matches=10**\n",
    "\n",
    "\n",
    "You can now observe that if you do not have any information regarding the position and length of the gap you wish to introduce, it will be exceedingly difficult to achieve a significant number of matches. In this example, we have seen the number of amino acid matches decrease from 129 to 10 due to the introduction of this gap. Using the Needleman-Wunsch algorithm is highly effective and imperative when aiming to achieve maximal alignment.\n"
   ]
  },
  {
   "cell_type": "code",
   "execution_count": null,
   "id": "df4cd301-15bf-4b31-a223-0ca319b8c097",
   "metadata": {},
   "outputs": [],
   "source": [
    "gap_length = int(input(\"Enter the length of the gap: \"))\n",
    "position = int(input(\"Enter the position to apply the gap: \"))\n",
    "\n",
    "num_matches = count_matches_with_gap(sequence1, sequence2, gap_length, position)\n",
    "print(\"Number of matches found with the gap method is:\", num_matches)\n"
   ]
  },
  {
   "cell_type": "markdown",
   "id": "ff6926bb-4909-4ed9-b756-9244620d6136",
   "metadata": {},
   "source": [
    "# ProtaVision: Challenges and Features - General Remarks\n",
    "\n",
    "## Introduction\n",
    "\n",
    "Protavision is an interactive Jupyter Notebook dedicated to exploring protein structures and functions!\n",
    "\n",
    "## Motivations\n",
    "\n",
    "This package is useful for the students taking or interested by the biochemistry course. One can analyse 2 sequences, find the best method to get the more matches (sequence allignment and gaps). One can also try to see which secondary structure (alpha helices, beta structures, etc...) are present in the protein by visualizing the proteins in three dimensions.\n",
    "\n",
    "## Main Features\n",
    "\n",
    "- **Sequence Alignment**: Efficiently compare two protein sequences to identify matching and non-matching amino acids.\n",
    "- **Amino Acid Analysis**: Analyze properties of amino acids, such as molecular weight and composition.\n",
    "- **Substitutions Conservatrices**: Explore amino acid substitutions that preserve biochemical properties.\n",
    "- **Protein Visualization**: Visualize protein structures in 3D using PDB codes.\n",
    "- **Gap Method for Sequence Alignment**: Implement a gap-based sequence alignment method.\n",
    "\n",
    "## Challenges Encountered\n",
    "\n",
    "1. **PDB Retrieval**: Finding PDB codes for protein visualization posed a challenge, especially for proteins with no assigned PDB codes (as myoglobin for mouse for example).\n",
    "2. **Sequence Alignment**: Writing code for sequence alignment, especially implementing the Needleman-Wunsch algorithm, required careful consideration and debugging.\n",
    "3. **Package Compatibility**: Ensuring compatibility between different Python packages used in the notebook, such as Biopython and py3Dmol, sometimes resulted in compatibility issues.\n",
    "4. **User Input Handling**: Handling user input for gap-based sequence alignment involves validating inputs and error handling to ensure smooth execution.\n",
    "5. **Using GitHub and handling conflicts**: We were having issues working on the notebook together and learning how to use multiple features such as pushing and pulling edits, dealing with environments and packages, dealing with README for the table of contents (links were not working)\n",
    "\n",
    "## Tools Used\n",
    "\n",
    "- **Biopython**: Utilized for retrieving protein sequences from the UniProt database and performing sequence alignment.\n",
    "- **py3Dmol**: Used for visualizing protein structures in 3D within Jupyter Notebook.\n",
    "- **Jupyter Notebook**: Provided an interactive environment for running code, visualizing data, and documenting the analysis process.\n",
    "- **pandas**: Used for visualizing in a table index and types of amino acids that don't match between 2 sequences.\n",
    "- **matplotlib**: Used to draw a bar graph to show how many amino acids we have for each.\n",
    "\n",
    "## Conclusion\n",
    "\n",
    "ProtaVision offers a comprehensive toolkit for exploring protein structures and functions, and overcoming challenges in sequence alignment, visualization, and analysis. With its intuitive interface and powerful functionalities, it serves as a valuable resource for bioinformatics enthusiasts and researchers alike.\n"
   ]
  }
 ],
 "metadata": {
  "kernelspec": {
   "display_name": "Python 3 (ipykernel)",
   "language": "python",
   "name": "python3"
  },
  "language_info": {
   "codemirror_mode": {
    "name": "ipython",
    "version": 3
   },
   "file_extension": ".py",
   "mimetype": "text/x-python",
   "name": "python",
   "nbconvert_exporter": "python",
   "pygments_lexer": "ipython3",
   "version": "3.10.14"
  }
 },
 "nbformat": 4,
 "nbformat_minor": 5
}
